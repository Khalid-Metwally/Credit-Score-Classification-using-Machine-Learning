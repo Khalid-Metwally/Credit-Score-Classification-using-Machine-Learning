{
 "cells": [
  {
   "cell_type": "code",
   "execution_count": 2,
   "id": "ef05101e-ae22-4ba1-a040-2ab77550c72f",
   "metadata": {
    "tags": []
   },
   "outputs": [],
   "source": [
    "import pandas as pd\n",
    "import numpy as np\n",
    "import matplotlib.pyplot as plt"
   ]
  },
  {
   "cell_type": "markdown",
   "id": "84e7cf33-aebd-4ee4-b87d-447a4d7af19f",
   "metadata": {},
   "source": [
    "# Importing the dataset"
   ]
  },
  {
   "cell_type": "code",
   "execution_count": 3,
   "id": "755f14d8-5553-4e22-b4ca-0801e9babf20",
   "metadata": {
    "tags": []
   },
   "outputs": [
    {
     "data": {
      "text/html": [
       "<div>\n",
       "<style scoped>\n",
       "    .dataframe tbody tr th:only-of-type {\n",
       "        vertical-align: middle;\n",
       "    }\n",
       "\n",
       "    .dataframe tbody tr th {\n",
       "        vertical-align: top;\n",
       "    }\n",
       "\n",
       "    .dataframe thead th {\n",
       "        text-align: right;\n",
       "    }\n",
       "</style>\n",
       "<table border=\"1\" class=\"dataframe\">\n",
       "  <thead>\n",
       "    <tr style=\"text-align: right;\">\n",
       "      <th></th>\n",
       "      <th>ID</th>\n",
       "      <th>Customer_ID</th>\n",
       "      <th>Month</th>\n",
       "      <th>Name</th>\n",
       "      <th>Age</th>\n",
       "      <th>SSN</th>\n",
       "      <th>Occupation</th>\n",
       "      <th>Annual_Income</th>\n",
       "      <th>Monthly_Inhand_Salary</th>\n",
       "      <th>Num_Bank_Accounts</th>\n",
       "      <th>...</th>\n",
       "      <th>Credit_Mix</th>\n",
       "      <th>Outstanding_Debt</th>\n",
       "      <th>Credit_Utilization_Ratio</th>\n",
       "      <th>Credit_History_Age</th>\n",
       "      <th>Payment_of_Min_Amount</th>\n",
       "      <th>Total_EMI_per_month</th>\n",
       "      <th>Amount_invested_monthly</th>\n",
       "      <th>Payment_Behaviour</th>\n",
       "      <th>Monthly_Balance</th>\n",
       "      <th>Credit_Score</th>\n",
       "    </tr>\n",
       "  </thead>\n",
       "  <tbody>\n",
       "    <tr>\n",
       "      <th>0</th>\n",
       "      <td>5634</td>\n",
       "      <td>3392</td>\n",
       "      <td>1</td>\n",
       "      <td>Aaron Maashoh</td>\n",
       "      <td>23.0</td>\n",
       "      <td>821000265.0</td>\n",
       "      <td>Scientist</td>\n",
       "      <td>19114.12</td>\n",
       "      <td>1824.843333</td>\n",
       "      <td>3.0</td>\n",
       "      <td>...</td>\n",
       "      <td>Good</td>\n",
       "      <td>809.98</td>\n",
       "      <td>26.822620</td>\n",
       "      <td>265.0</td>\n",
       "      <td>No</td>\n",
       "      <td>49.574949</td>\n",
       "      <td>21.46538</td>\n",
       "      <td>High_spent_Small_value_payments</td>\n",
       "      <td>312.494089</td>\n",
       "      <td>Good</td>\n",
       "    </tr>\n",
       "    <tr>\n",
       "      <th>1</th>\n",
       "      <td>5635</td>\n",
       "      <td>3392</td>\n",
       "      <td>2</td>\n",
       "      <td>Aaron Maashoh</td>\n",
       "      <td>23.0</td>\n",
       "      <td>821000265.0</td>\n",
       "      <td>Scientist</td>\n",
       "      <td>19114.12</td>\n",
       "      <td>1824.843333</td>\n",
       "      <td>3.0</td>\n",
       "      <td>...</td>\n",
       "      <td>Good</td>\n",
       "      <td>809.98</td>\n",
       "      <td>31.944960</td>\n",
       "      <td>266.0</td>\n",
       "      <td>No</td>\n",
       "      <td>49.574949</td>\n",
       "      <td>21.46538</td>\n",
       "      <td>Low_spent_Large_value_payments</td>\n",
       "      <td>284.629162</td>\n",
       "      <td>Good</td>\n",
       "    </tr>\n",
       "    <tr>\n",
       "      <th>2</th>\n",
       "      <td>5636</td>\n",
       "      <td>3392</td>\n",
       "      <td>3</td>\n",
       "      <td>Aaron Maashoh</td>\n",
       "      <td>23.0</td>\n",
       "      <td>821000265.0</td>\n",
       "      <td>Scientist</td>\n",
       "      <td>19114.12</td>\n",
       "      <td>1824.843333</td>\n",
       "      <td>3.0</td>\n",
       "      <td>...</td>\n",
       "      <td>Good</td>\n",
       "      <td>809.98</td>\n",
       "      <td>28.609352</td>\n",
       "      <td>267.0</td>\n",
       "      <td>No</td>\n",
       "      <td>49.574949</td>\n",
       "      <td>21.46538</td>\n",
       "      <td>Low_spent_Medium_value_payments</td>\n",
       "      <td>331.209863</td>\n",
       "      <td>Good</td>\n",
       "    </tr>\n",
       "    <tr>\n",
       "      <th>3</th>\n",
       "      <td>5637</td>\n",
       "      <td>3392</td>\n",
       "      <td>4</td>\n",
       "      <td>Aaron Maashoh</td>\n",
       "      <td>23.0</td>\n",
       "      <td>821000265.0</td>\n",
       "      <td>Scientist</td>\n",
       "      <td>19114.12</td>\n",
       "      <td>1824.843333</td>\n",
       "      <td>3.0</td>\n",
       "      <td>...</td>\n",
       "      <td>Good</td>\n",
       "      <td>809.98</td>\n",
       "      <td>31.377862</td>\n",
       "      <td>268.0</td>\n",
       "      <td>No</td>\n",
       "      <td>49.574949</td>\n",
       "      <td>21.46538</td>\n",
       "      <td>Low_spent_Small_value_payments</td>\n",
       "      <td>223.451310</td>\n",
       "      <td>Good</td>\n",
       "    </tr>\n",
       "    <tr>\n",
       "      <th>4</th>\n",
       "      <td>5638</td>\n",
       "      <td>3392</td>\n",
       "      <td>5</td>\n",
       "      <td>Aaron Maashoh</td>\n",
       "      <td>23.0</td>\n",
       "      <td>821000265.0</td>\n",
       "      <td>Scientist</td>\n",
       "      <td>19114.12</td>\n",
       "      <td>1824.843333</td>\n",
       "      <td>3.0</td>\n",
       "      <td>...</td>\n",
       "      <td>Good</td>\n",
       "      <td>809.98</td>\n",
       "      <td>24.797347</td>\n",
       "      <td>269.0</td>\n",
       "      <td>No</td>\n",
       "      <td>49.574949</td>\n",
       "      <td>21.46538</td>\n",
       "      <td>High_spent_Medium_value_payments</td>\n",
       "      <td>341.489231</td>\n",
       "      <td>Good</td>\n",
       "    </tr>\n",
       "  </tbody>\n",
       "</table>\n",
       "<p>5 rows × 28 columns</p>\n",
       "</div>"
      ],
      "text/plain": [
       "     ID  Customer_ID  Month           Name   Age          SSN Occupation  \\\n",
       "0  5634         3392      1  Aaron Maashoh  23.0  821000265.0  Scientist   \n",
       "1  5635         3392      2  Aaron Maashoh  23.0  821000265.0  Scientist   \n",
       "2  5636         3392      3  Aaron Maashoh  23.0  821000265.0  Scientist   \n",
       "3  5637         3392      4  Aaron Maashoh  23.0  821000265.0  Scientist   \n",
       "4  5638         3392      5  Aaron Maashoh  23.0  821000265.0  Scientist   \n",
       "\n",
       "   Annual_Income  Monthly_Inhand_Salary  Num_Bank_Accounts  ...  Credit_Mix  \\\n",
       "0       19114.12            1824.843333                3.0  ...        Good   \n",
       "1       19114.12            1824.843333                3.0  ...        Good   \n",
       "2       19114.12            1824.843333                3.0  ...        Good   \n",
       "3       19114.12            1824.843333                3.0  ...        Good   \n",
       "4       19114.12            1824.843333                3.0  ...        Good   \n",
       "\n",
       "   Outstanding_Debt  Credit_Utilization_Ratio Credit_History_Age  \\\n",
       "0            809.98                 26.822620              265.0   \n",
       "1            809.98                 31.944960              266.0   \n",
       "2            809.98                 28.609352              267.0   \n",
       "3            809.98                 31.377862              268.0   \n",
       "4            809.98                 24.797347              269.0   \n",
       "\n",
       "   Payment_of_Min_Amount  Total_EMI_per_month  Amount_invested_monthly  \\\n",
       "0                     No            49.574949                 21.46538   \n",
       "1                     No            49.574949                 21.46538   \n",
       "2                     No            49.574949                 21.46538   \n",
       "3                     No            49.574949                 21.46538   \n",
       "4                     No            49.574949                 21.46538   \n",
       "\n",
       "                  Payment_Behaviour Monthly_Balance  Credit_Score  \n",
       "0   High_spent_Small_value_payments      312.494089          Good  \n",
       "1    Low_spent_Large_value_payments      284.629162          Good  \n",
       "2   Low_spent_Medium_value_payments      331.209863          Good  \n",
       "3    Low_spent_Small_value_payments      223.451310          Good  \n",
       "4  High_spent_Medium_value_payments      341.489231          Good  \n",
       "\n",
       "[5 rows x 28 columns]"
      ]
     },
     "execution_count": 3,
     "metadata": {},
     "output_type": "execute_result"
    }
   ],
   "source": [
    "path = 'Credit - train.csv'\n",
    "credit_train = pd.read_csv(path)\n",
    "\n",
    "credit_train.head(5)"
   ]
  },
  {
   "cell_type": "code",
   "execution_count": 4,
   "id": "5849fdde-5dd8-4d51-8dba-0c79085cf0c1",
   "metadata": {
    "tags": []
   },
   "outputs": [
    {
     "data": {
      "text/html": [
       "<div>\n",
       "<style scoped>\n",
       "    .dataframe tbody tr th:only-of-type {\n",
       "        vertical-align: middle;\n",
       "    }\n",
       "\n",
       "    .dataframe tbody tr th {\n",
       "        vertical-align: top;\n",
       "    }\n",
       "\n",
       "    .dataframe thead th {\n",
       "        text-align: right;\n",
       "    }\n",
       "</style>\n",
       "<table border=\"1\" class=\"dataframe\">\n",
       "  <thead>\n",
       "    <tr style=\"text-align: right;\">\n",
       "      <th></th>\n",
       "      <th>ID</th>\n",
       "      <th>Customer_ID</th>\n",
       "      <th>Month</th>\n",
       "      <th>Name</th>\n",
       "      <th>Age</th>\n",
       "      <th>SSN</th>\n",
       "      <th>Occupation</th>\n",
       "      <th>Annual_Income</th>\n",
       "      <th>Monthly_Inhand_Salary</th>\n",
       "      <th>Num_Bank_Accounts</th>\n",
       "      <th>...</th>\n",
       "      <th>Num_Credit_Inquiries</th>\n",
       "      <th>Credit_Mix</th>\n",
       "      <th>Outstanding_Debt</th>\n",
       "      <th>Credit_Utilization_Ratio</th>\n",
       "      <th>Credit_History_Age</th>\n",
       "      <th>Payment_of_Min_Amount</th>\n",
       "      <th>Total_EMI_per_month</th>\n",
       "      <th>Amount_invested_monthly</th>\n",
       "      <th>Payment_Behaviour</th>\n",
       "      <th>Monthly_Balance</th>\n",
       "    </tr>\n",
       "  </thead>\n",
       "  <tbody>\n",
       "    <tr>\n",
       "      <th>0</th>\n",
       "      <td>5642</td>\n",
       "      <td>3392</td>\n",
       "      <td>9</td>\n",
       "      <td>Aaron Maashoh</td>\n",
       "      <td>23.0</td>\n",
       "      <td>821000265.0</td>\n",
       "      <td>Scientist</td>\n",
       "      <td>19114.12</td>\n",
       "      <td>1824.843333</td>\n",
       "      <td>3.0</td>\n",
       "      <td>...</td>\n",
       "      <td>4.0</td>\n",
       "      <td>Good</td>\n",
       "      <td>809.98</td>\n",
       "      <td>35.030402</td>\n",
       "      <td>273.0</td>\n",
       "      <td>No</td>\n",
       "      <td>49.574949</td>\n",
       "      <td>21.465380</td>\n",
       "      <td>Low_spent_Small_value_payments</td>\n",
       "      <td>186.266702</td>\n",
       "    </tr>\n",
       "    <tr>\n",
       "      <th>1</th>\n",
       "      <td>5643</td>\n",
       "      <td>3392</td>\n",
       "      <td>10</td>\n",
       "      <td>Aaron Maashoh</td>\n",
       "      <td>24.0</td>\n",
       "      <td>821000265.0</td>\n",
       "      <td>Scientist</td>\n",
       "      <td>19114.12</td>\n",
       "      <td>1824.843333</td>\n",
       "      <td>3.0</td>\n",
       "      <td>...</td>\n",
       "      <td>4.0</td>\n",
       "      <td>Good</td>\n",
       "      <td>809.98</td>\n",
       "      <td>33.053114</td>\n",
       "      <td>274.0</td>\n",
       "      <td>No</td>\n",
       "      <td>49.574949</td>\n",
       "      <td>21.465380</td>\n",
       "      <td>High_spent_Medium_value_payments</td>\n",
       "      <td>361.444004</td>\n",
       "    </tr>\n",
       "    <tr>\n",
       "      <th>2</th>\n",
       "      <td>5644</td>\n",
       "      <td>3392</td>\n",
       "      <td>11</td>\n",
       "      <td>Aaron Maashoh</td>\n",
       "      <td>24.0</td>\n",
       "      <td>821000265.0</td>\n",
       "      <td>Scientist</td>\n",
       "      <td>19114.12</td>\n",
       "      <td>1824.843333</td>\n",
       "      <td>3.0</td>\n",
       "      <td>...</td>\n",
       "      <td>4.0</td>\n",
       "      <td>Good</td>\n",
       "      <td>809.98</td>\n",
       "      <td>33.811894</td>\n",
       "      <td>275.0</td>\n",
       "      <td>No</td>\n",
       "      <td>49.574949</td>\n",
       "      <td>21.465380</td>\n",
       "      <td>Low_spent_Medium_value_payments</td>\n",
       "      <td>264.675446</td>\n",
       "    </tr>\n",
       "    <tr>\n",
       "      <th>3</th>\n",
       "      <td>5645</td>\n",
       "      <td>3392</td>\n",
       "      <td>12</td>\n",
       "      <td>Aaron Maashoh</td>\n",
       "      <td>24.0</td>\n",
       "      <td>821000265.0</td>\n",
       "      <td>Scientist</td>\n",
       "      <td>19114.12</td>\n",
       "      <td>1824.843333</td>\n",
       "      <td>3.0</td>\n",
       "      <td>...</td>\n",
       "      <td>4.0</td>\n",
       "      <td>Good</td>\n",
       "      <td>809.98</td>\n",
       "      <td>32.430559</td>\n",
       "      <td>276.0</td>\n",
       "      <td>No</td>\n",
       "      <td>49.574949</td>\n",
       "      <td>21.465380</td>\n",
       "      <td>High_spent_Medium_value_payments</td>\n",
       "      <td>343.826873</td>\n",
       "    </tr>\n",
       "    <tr>\n",
       "      <th>4</th>\n",
       "      <td>5654</td>\n",
       "      <td>8625</td>\n",
       "      <td>9</td>\n",
       "      <td>Rick Rothackerj</td>\n",
       "      <td>28.0</td>\n",
       "      <td>4075839.0</td>\n",
       "      <td>Teacher</td>\n",
       "      <td>34847.84</td>\n",
       "      <td>3037.986667</td>\n",
       "      <td>2.0</td>\n",
       "      <td>...</td>\n",
       "      <td>5.0</td>\n",
       "      <td>Good</td>\n",
       "      <td>605.03</td>\n",
       "      <td>25.926822</td>\n",
       "      <td>327.0</td>\n",
       "      <td>No</td>\n",
       "      <td>18.816215</td>\n",
       "      <td>39.684018</td>\n",
       "      <td>High_spent_Large_value_payments</td>\n",
       "      <td>485.298434</td>\n",
       "    </tr>\n",
       "  </tbody>\n",
       "</table>\n",
       "<p>5 rows × 27 columns</p>\n",
       "</div>"
      ],
      "text/plain": [
       "     ID  Customer_ID  Month             Name   Age          SSN Occupation  \\\n",
       "0  5642         3392      9    Aaron Maashoh  23.0  821000265.0  Scientist   \n",
       "1  5643         3392     10    Aaron Maashoh  24.0  821000265.0  Scientist   \n",
       "2  5644         3392     11    Aaron Maashoh  24.0  821000265.0  Scientist   \n",
       "3  5645         3392     12    Aaron Maashoh  24.0  821000265.0  Scientist   \n",
       "4  5654         8625      9  Rick Rothackerj  28.0    4075839.0    Teacher   \n",
       "\n",
       "   Annual_Income  Monthly_Inhand_Salary  Num_Bank_Accounts  ...  \\\n",
       "0       19114.12            1824.843333                3.0  ...   \n",
       "1       19114.12            1824.843333                3.0  ...   \n",
       "2       19114.12            1824.843333                3.0  ...   \n",
       "3       19114.12            1824.843333                3.0  ...   \n",
       "4       34847.84            3037.986667                2.0  ...   \n",
       "\n",
       "   Num_Credit_Inquiries  Credit_Mix  Outstanding_Debt  \\\n",
       "0                   4.0        Good            809.98   \n",
       "1                   4.0        Good            809.98   \n",
       "2                   4.0        Good            809.98   \n",
       "3                   4.0        Good            809.98   \n",
       "4                   5.0        Good            605.03   \n",
       "\n",
       "  Credit_Utilization_Ratio  Credit_History_Age  Payment_of_Min_Amount  \\\n",
       "0                35.030402               273.0                     No   \n",
       "1                33.053114               274.0                     No   \n",
       "2                33.811894               275.0                     No   \n",
       "3                32.430559               276.0                     No   \n",
       "4                25.926822               327.0                     No   \n",
       "\n",
       "   Total_EMI_per_month  Amount_invested_monthly  \\\n",
       "0            49.574949                21.465380   \n",
       "1            49.574949                21.465380   \n",
       "2            49.574949                21.465380   \n",
       "3            49.574949                21.465380   \n",
       "4            18.816215                39.684018   \n",
       "\n",
       "                  Payment_Behaviour  Monthly_Balance  \n",
       "0    Low_spent_Small_value_payments       186.266702  \n",
       "1  High_spent_Medium_value_payments       361.444004  \n",
       "2   Low_spent_Medium_value_payments       264.675446  \n",
       "3  High_spent_Medium_value_payments       343.826873  \n",
       "4   High_spent_Large_value_payments       485.298434  \n",
       "\n",
       "[5 rows x 27 columns]"
      ]
     },
     "execution_count": 4,
     "metadata": {},
     "output_type": "execute_result"
    }
   ],
   "source": [
    "path2 = 'Credit - test.csv'\n",
    "credit_test = pd.read_csv(path2)\n",
    "\n",
    "credit_test.head(5)"
   ]
  },
  {
   "cell_type": "code",
   "execution_count": 5,
   "id": "cc1dd8e6-960e-4ff4-a5ee-a4e06948621b",
   "metadata": {
    "tags": []
   },
   "outputs": [
    {
     "data": {
      "text/html": [
       "<div>\n",
       "<style scoped>\n",
       "    .dataframe tbody tr th:only-of-type {\n",
       "        vertical-align: middle;\n",
       "    }\n",
       "\n",
       "    .dataframe tbody tr th {\n",
       "        vertical-align: top;\n",
       "    }\n",
       "\n",
       "    .dataframe thead th {\n",
       "        text-align: right;\n",
       "    }\n",
       "</style>\n",
       "<table border=\"1\" class=\"dataframe\">\n",
       "  <thead>\n",
       "    <tr style=\"text-align: right;\">\n",
       "      <th></th>\n",
       "      <th>ID</th>\n",
       "      <th>Customer_ID</th>\n",
       "      <th>Month</th>\n",
       "      <th>Name</th>\n",
       "      <th>Age</th>\n",
       "      <th>SSN</th>\n",
       "      <th>Occupation</th>\n",
       "      <th>Annual_Income</th>\n",
       "      <th>Monthly_Inhand_Salary</th>\n",
       "      <th>Num_Bank_Accounts</th>\n",
       "      <th>...</th>\n",
       "      <th>Credit_Mix</th>\n",
       "      <th>Outstanding_Debt</th>\n",
       "      <th>Credit_Utilization_Ratio</th>\n",
       "      <th>Credit_History_Age</th>\n",
       "      <th>Payment_of_Min_Amount</th>\n",
       "      <th>Total_EMI_per_month</th>\n",
       "      <th>Amount_invested_monthly</th>\n",
       "      <th>Payment_Behaviour</th>\n",
       "      <th>Monthly_Balance</th>\n",
       "      <th>Credit_Score</th>\n",
       "    </tr>\n",
       "  </thead>\n",
       "  <tbody>\n",
       "    <tr>\n",
       "      <th>0</th>\n",
       "      <td>5634</td>\n",
       "      <td>3392</td>\n",
       "      <td>1</td>\n",
       "      <td>Aaron Maashoh</td>\n",
       "      <td>23.0</td>\n",
       "      <td>821000265.0</td>\n",
       "      <td>Scientist</td>\n",
       "      <td>19114.12</td>\n",
       "      <td>1824.843333</td>\n",
       "      <td>3.0</td>\n",
       "      <td>...</td>\n",
       "      <td>Good</td>\n",
       "      <td>809.98</td>\n",
       "      <td>26.822620</td>\n",
       "      <td>265.0</td>\n",
       "      <td>No</td>\n",
       "      <td>49.574949</td>\n",
       "      <td>21.46538</td>\n",
       "      <td>High_spent_Small_value_payments</td>\n",
       "      <td>312.494089</td>\n",
       "      <td>Good</td>\n",
       "    </tr>\n",
       "    <tr>\n",
       "      <th>1</th>\n",
       "      <td>5635</td>\n",
       "      <td>3392</td>\n",
       "      <td>2</td>\n",
       "      <td>Aaron Maashoh</td>\n",
       "      <td>23.0</td>\n",
       "      <td>821000265.0</td>\n",
       "      <td>Scientist</td>\n",
       "      <td>19114.12</td>\n",
       "      <td>1824.843333</td>\n",
       "      <td>3.0</td>\n",
       "      <td>...</td>\n",
       "      <td>Good</td>\n",
       "      <td>809.98</td>\n",
       "      <td>31.944960</td>\n",
       "      <td>266.0</td>\n",
       "      <td>No</td>\n",
       "      <td>49.574949</td>\n",
       "      <td>21.46538</td>\n",
       "      <td>Low_spent_Large_value_payments</td>\n",
       "      <td>284.629162</td>\n",
       "      <td>Good</td>\n",
       "    </tr>\n",
       "    <tr>\n",
       "      <th>2</th>\n",
       "      <td>5636</td>\n",
       "      <td>3392</td>\n",
       "      <td>3</td>\n",
       "      <td>Aaron Maashoh</td>\n",
       "      <td>23.0</td>\n",
       "      <td>821000265.0</td>\n",
       "      <td>Scientist</td>\n",
       "      <td>19114.12</td>\n",
       "      <td>1824.843333</td>\n",
       "      <td>3.0</td>\n",
       "      <td>...</td>\n",
       "      <td>Good</td>\n",
       "      <td>809.98</td>\n",
       "      <td>28.609352</td>\n",
       "      <td>267.0</td>\n",
       "      <td>No</td>\n",
       "      <td>49.574949</td>\n",
       "      <td>21.46538</td>\n",
       "      <td>Low_spent_Medium_value_payments</td>\n",
       "      <td>331.209863</td>\n",
       "      <td>Good</td>\n",
       "    </tr>\n",
       "    <tr>\n",
       "      <th>3</th>\n",
       "      <td>5637</td>\n",
       "      <td>3392</td>\n",
       "      <td>4</td>\n",
       "      <td>Aaron Maashoh</td>\n",
       "      <td>23.0</td>\n",
       "      <td>821000265.0</td>\n",
       "      <td>Scientist</td>\n",
       "      <td>19114.12</td>\n",
       "      <td>1824.843333</td>\n",
       "      <td>3.0</td>\n",
       "      <td>...</td>\n",
       "      <td>Good</td>\n",
       "      <td>809.98</td>\n",
       "      <td>31.377862</td>\n",
       "      <td>268.0</td>\n",
       "      <td>No</td>\n",
       "      <td>49.574949</td>\n",
       "      <td>21.46538</td>\n",
       "      <td>Low_spent_Small_value_payments</td>\n",
       "      <td>223.451310</td>\n",
       "      <td>Good</td>\n",
       "    </tr>\n",
       "    <tr>\n",
       "      <th>4</th>\n",
       "      <td>5638</td>\n",
       "      <td>3392</td>\n",
       "      <td>5</td>\n",
       "      <td>Aaron Maashoh</td>\n",
       "      <td>23.0</td>\n",
       "      <td>821000265.0</td>\n",
       "      <td>Scientist</td>\n",
       "      <td>19114.12</td>\n",
       "      <td>1824.843333</td>\n",
       "      <td>3.0</td>\n",
       "      <td>...</td>\n",
       "      <td>Good</td>\n",
       "      <td>809.98</td>\n",
       "      <td>24.797347</td>\n",
       "      <td>269.0</td>\n",
       "      <td>No</td>\n",
       "      <td>49.574949</td>\n",
       "      <td>21.46538</td>\n",
       "      <td>High_spent_Medium_value_payments</td>\n",
       "      <td>341.489231</td>\n",
       "      <td>Good</td>\n",
       "    </tr>\n",
       "  </tbody>\n",
       "</table>\n",
       "<p>5 rows × 28 columns</p>\n",
       "</div>"
      ],
      "text/plain": [
       "     ID  Customer_ID  Month           Name   Age          SSN Occupation  \\\n",
       "0  5634         3392      1  Aaron Maashoh  23.0  821000265.0  Scientist   \n",
       "1  5635         3392      2  Aaron Maashoh  23.0  821000265.0  Scientist   \n",
       "2  5636         3392      3  Aaron Maashoh  23.0  821000265.0  Scientist   \n",
       "3  5637         3392      4  Aaron Maashoh  23.0  821000265.0  Scientist   \n",
       "4  5638         3392      5  Aaron Maashoh  23.0  821000265.0  Scientist   \n",
       "\n",
       "   Annual_Income  Monthly_Inhand_Salary  Num_Bank_Accounts  ...  Credit_Mix  \\\n",
       "0       19114.12            1824.843333                3.0  ...        Good   \n",
       "1       19114.12            1824.843333                3.0  ...        Good   \n",
       "2       19114.12            1824.843333                3.0  ...        Good   \n",
       "3       19114.12            1824.843333                3.0  ...        Good   \n",
       "4       19114.12            1824.843333                3.0  ...        Good   \n",
       "\n",
       "   Outstanding_Debt  Credit_Utilization_Ratio Credit_History_Age  \\\n",
       "0            809.98                 26.822620              265.0   \n",
       "1            809.98                 31.944960              266.0   \n",
       "2            809.98                 28.609352              267.0   \n",
       "3            809.98                 31.377862              268.0   \n",
       "4            809.98                 24.797347              269.0   \n",
       "\n",
       "   Payment_of_Min_Amount  Total_EMI_per_month  Amount_invested_monthly  \\\n",
       "0                     No            49.574949                 21.46538   \n",
       "1                     No            49.574949                 21.46538   \n",
       "2                     No            49.574949                 21.46538   \n",
       "3                     No            49.574949                 21.46538   \n",
       "4                     No            49.574949                 21.46538   \n",
       "\n",
       "                  Payment_Behaviour Monthly_Balance  Credit_Score  \n",
       "0   High_spent_Small_value_payments      312.494089          Good  \n",
       "1    Low_spent_Large_value_payments      284.629162          Good  \n",
       "2   Low_spent_Medium_value_payments      331.209863          Good  \n",
       "3    Low_spent_Small_value_payments      223.451310          Good  \n",
       "4  High_spent_Medium_value_payments      341.489231          Good  \n",
       "\n",
       "[5 rows x 28 columns]"
      ]
     },
     "execution_count": 5,
     "metadata": {},
     "output_type": "execute_result"
    }
   ],
   "source": [
    "credit = pd.concat((credit_train,credit_test), ignore_index = True)\n",
    "credit.head()"
   ]
  },
  {
   "cell_type": "code",
   "execution_count": 6,
   "id": "a9cc7d48-dc0d-45d2-b885-549ae7656430",
   "metadata": {
    "tags": []
   },
   "outputs": [
    {
     "name": "stdout",
     "output_type": "stream",
     "text": [
      "length of train = 100000\n",
      "length of test = 50000\n",
      "length of full dataset = 150000\n"
     ]
    }
   ],
   "source": [
    "print(f'length of train = {len(credit_train)}')\n",
    "print(f'length of test = {len(credit_test)}')\n",
    "print(f'length of full dataset = {len(credit)}')"
   ]
  },
  {
   "cell_type": "markdown",
   "id": "e88e6d3b-5f23-4537-8011-8f42b08f3ccf",
   "metadata": {},
   "source": [
    "Testing set does not contain labels. Cannot use it as the model cannot compare its predictions with the ground truth\n",
    "\n",
    "We will use the training dataset and split it into train test. "
   ]
  },
  {
   "cell_type": "markdown",
   "id": "5e8d9d77-87a0-4c74-a148-3a82abbe41ff",
   "metadata": {},
   "source": [
    "# Data Cleaning"
   ]
  },
  {
   "cell_type": "code",
   "execution_count": 7,
   "id": "c269d104-7400-4964-99f8-dd8f3006ead5",
   "metadata": {
    "tags": []
   },
   "outputs": [
    {
     "name": "stdout",
     "output_type": "stream",
     "text": [
      "<class 'pandas.core.frame.DataFrame'>\n",
      "RangeIndex: 100000 entries, 0 to 99999\n",
      "Data columns (total 28 columns):\n",
      " #   Column                    Non-Null Count   Dtype  \n",
      "---  ------                    --------------   -----  \n",
      " 0   ID                        100000 non-null  int64  \n",
      " 1   Customer_ID               100000 non-null  int64  \n",
      " 2   Month                     100000 non-null  int64  \n",
      " 3   Name                      100000 non-null  object \n",
      " 4   Age                       100000 non-null  float64\n",
      " 5   SSN                       100000 non-null  float64\n",
      " 6   Occupation                100000 non-null  object \n",
      " 7   Annual_Income             100000 non-null  float64\n",
      " 8   Monthly_Inhand_Salary     100000 non-null  float64\n",
      " 9   Num_Bank_Accounts         100000 non-null  float64\n",
      " 10  Num_Credit_Card           100000 non-null  float64\n",
      " 11  Interest_Rate             100000 non-null  float64\n",
      " 12  Num_of_Loan               100000 non-null  float64\n",
      " 13  Type_of_Loan              100000 non-null  object \n",
      " 14  Delay_from_due_date       100000 non-null  float64\n",
      " 15  Num_of_Delayed_Payment    100000 non-null  float64\n",
      " 16  Changed_Credit_Limit      100000 non-null  float64\n",
      " 17  Num_Credit_Inquiries      100000 non-null  float64\n",
      " 18  Credit_Mix                100000 non-null  object \n",
      " 19  Outstanding_Debt          100000 non-null  float64\n",
      " 20  Credit_Utilization_Ratio  100000 non-null  float64\n",
      " 21  Credit_History_Age        100000 non-null  float64\n",
      " 22  Payment_of_Min_Amount     100000 non-null  object \n",
      " 23  Total_EMI_per_month       100000 non-null  float64\n",
      " 24  Amount_invested_monthly   100000 non-null  float64\n",
      " 25  Payment_Behaviour         100000 non-null  object \n",
      " 26  Monthly_Balance           100000 non-null  float64\n",
      " 27  Credit_Score              100000 non-null  object \n",
      "dtypes: float64(18), int64(3), object(7)\n",
      "memory usage: 21.4+ MB\n"
     ]
    }
   ],
   "source": [
    "credit_train.info()"
   ]
  },
  {
   "cell_type": "code",
   "execution_count": 8,
   "id": "4db55004-9e9c-4da9-a738-ddb3d00e60e7",
   "metadata": {
    "tags": []
   },
   "outputs": [
    {
     "name": "stdout",
     "output_type": "stream",
     "text": [
      "DataFrame has 'null' or 'NA' entries.\n",
      "Number of nulls or na = ID                              0\n",
      "Customer_ID                     0\n",
      "Month                           0\n",
      "Name                            0\n",
      "Age                             0\n",
      "SSN                             0\n",
      "Occupation                      0\n",
      "Annual_Income                   0\n",
      "Monthly_Inhand_Salary           0\n",
      "Num_Bank_Accounts               0\n",
      "Num_Credit_Card                 0\n",
      "Interest_Rate                   0\n",
      "Num_of_Loan                     0\n",
      "Type_of_Loan                    0\n",
      "Delay_from_due_date             0\n",
      "Num_of_Delayed_Payment          0\n",
      "Changed_Credit_Limit            0\n",
      "Num_Credit_Inquiries            0\n",
      "Credit_Mix                      0\n",
      "Outstanding_Debt                0\n",
      "Credit_Utilization_Ratio        0\n",
      "Credit_History_Age              0\n",
      "Payment_of_Min_Amount           0\n",
      "Total_EMI_per_month             0\n",
      "Amount_invested_monthly         0\n",
      "Payment_Behaviour               0\n",
      "Monthly_Balance                 0\n",
      "Credit_Score                50000\n",
      "dtype: int64\n"
     ]
    }
   ],
   "source": [
    "null_entries = credit.isna().any().any()\n",
    "num_null = credit.isna().sum()\n",
    "if null_entries:\n",
    "    print(\"DataFrame has 'null' or 'NA' entries.\")\n",
    "else:\n",
    "    print(\"DataFrame does not have 'null' or 'NA' entries.\")\n",
    "    \n",
    "print(f'Number of nulls or na = {num_null}')"
   ]
  },
  {
   "cell_type": "code",
   "execution_count": 9,
   "id": "442810f3-4d30-459e-9d6d-85c51fb03e97",
   "metadata": {
    "tags": []
   },
   "outputs": [],
   "source": [
    "credit_cp = credit_train"
   ]
  },
  {
   "cell_type": "markdown",
   "id": "1d2c8889-373e-4151-a02d-5d6c4d9b18ba",
   "metadata": {},
   "source": [
    "# Drop unimportant features"
   ]
  },
  {
   "cell_type": "code",
   "execution_count": 10,
   "id": "d03eaa9d-262a-4508-b053-99988ea5f3c2",
   "metadata": {
    "tags": []
   },
   "outputs": [],
   "source": [
    "#By examining the dataset, we can assume that the ID, Customer ID, Name columns are not really useful for classification of credit scores.\n",
    "credit_cp = credit_cp.drop(['ID','Customer_ID', 'Name', 'SSN'], axis = 1)"
   ]
  },
  {
   "cell_type": "code",
   "execution_count": 11,
   "id": "82cd8660-f2be-4ff0-8285-6774d4413c01",
   "metadata": {
    "tags": []
   },
   "outputs": [
    {
     "name": "stdout",
     "output_type": "stream",
     "text": [
      "<class 'pandas.core.frame.DataFrame'>\n",
      "RangeIndex: 100000 entries, 0 to 99999\n",
      "Data columns (total 24 columns):\n",
      " #   Column                    Non-Null Count   Dtype  \n",
      "---  ------                    --------------   -----  \n",
      " 0   Month                     100000 non-null  int64  \n",
      " 1   Age                       100000 non-null  float64\n",
      " 2   Occupation                100000 non-null  object \n",
      " 3   Annual_Income             100000 non-null  float64\n",
      " 4   Monthly_Inhand_Salary     100000 non-null  float64\n",
      " 5   Num_Bank_Accounts         100000 non-null  float64\n",
      " 6   Num_Credit_Card           100000 non-null  float64\n",
      " 7   Interest_Rate             100000 non-null  float64\n",
      " 8   Num_of_Loan               100000 non-null  float64\n",
      " 9   Type_of_Loan              100000 non-null  object \n",
      " 10  Delay_from_due_date       100000 non-null  float64\n",
      " 11  Num_of_Delayed_Payment    100000 non-null  float64\n",
      " 12  Changed_Credit_Limit      100000 non-null  float64\n",
      " 13  Num_Credit_Inquiries      100000 non-null  float64\n",
      " 14  Credit_Mix                100000 non-null  object \n",
      " 15  Outstanding_Debt          100000 non-null  float64\n",
      " 16  Credit_Utilization_Ratio  100000 non-null  float64\n",
      " 17  Credit_History_Age        100000 non-null  float64\n",
      " 18  Payment_of_Min_Amount     100000 non-null  object \n",
      " 19  Total_EMI_per_month       100000 non-null  float64\n",
      " 20  Amount_invested_monthly   100000 non-null  float64\n",
      " 21  Payment_Behaviour         100000 non-null  object \n",
      " 22  Monthly_Balance           100000 non-null  float64\n",
      " 23  Credit_Score              100000 non-null  object \n",
      "dtypes: float64(17), int64(1), object(6)\n",
      "memory usage: 18.3+ MB\n"
     ]
    }
   ],
   "source": [
    "credit_cp.info()"
   ]
  },
  {
   "cell_type": "markdown",
   "id": "021257bd-0051-4edc-8bf9-773e40d4a2fe",
   "metadata": {},
   "source": [
    "# Encoding categorical"
   ]
  },
  {
   "cell_type": "code",
   "execution_count": 12,
   "id": "f524ee06-787a-4ef7-a1e4-02b96310e227",
   "metadata": {
    "tags": []
   },
   "outputs": [],
   "source": [
    "from sklearn.preprocessing import OrdinalEncoder\n",
    "categories = ['Poor', 'Standard', 'Good']\n",
    "\n",
    "encoder = OrdinalEncoder(categories=[categories])\n",
    "\n",
    "credit_cp['Credit_Score'] = encoder.fit_transform(credit_cp[['Credit_Score']])"
   ]
  },
  {
   "cell_type": "code",
   "execution_count": 13,
   "id": "43b88538-94a1-4a43-b0b9-24fb70f0ee26",
   "metadata": {
    "tags": []
   },
   "outputs": [],
   "source": [
    "from sklearn.preprocessing import LabelEncoder\n",
    "label_encoder = LabelEncoder()\n",
    "credit_cp['Occupation'] = label_encoder.fit_transform(credit_cp['Occupation'])"
   ]
  },
  {
   "cell_type": "code",
   "execution_count": 14,
   "id": "c3d2925a-ed91-488e-8714-3fe617ad77a3",
   "metadata": {
    "tags": []
   },
   "outputs": [],
   "source": [
    "categories = ['Bad', 'Standard', 'Good']\n",
    "\n",
    "encoder = OrdinalEncoder(categories=[categories])\n",
    "\n",
    "credit_cp['Credit_Mix'] = encoder.fit_transform(credit_cp[['Credit_Mix']])"
   ]
  },
  {
   "cell_type": "code",
   "execution_count": 15,
   "id": "48b4d29e-e32b-4c7e-9f69-a3dcc2d825ec",
   "metadata": {
    "tags": []
   },
   "outputs": [],
   "source": [
    "categories_payment_behaviour = [\n",
    "    'Low_spent_Small_value_payments', \n",
    "    'Low_spent_Medium_value_payments', \n",
    "    'Low_spent_Large_value_payments', \n",
    "    'High_spent_Small_value_payments', \n",
    "    'High_spent_Medium_value_payments', \n",
    "    'High_spent_Large_value_payments'\n",
    "]\n",
    "\n",
    "encoder_payment_behaviour = OrdinalEncoder(categories=[categories_payment_behaviour])\n",
    "\n",
    "credit_cp['Payment_Behaviour'] = encoder_payment_behaviour.fit_transform(credit_cp[['Payment_Behaviour']])"
   ]
  },
  {
   "cell_type": "code",
   "execution_count": 16,
   "id": "66103782-85e2-4ebf-801e-3a8f09c27436",
   "metadata": {
    "tags": []
   },
   "outputs": [],
   "source": [
    "label_encoder = LabelEncoder()\n",
    "credit_cp['Payment_of_Min_Amount'] = label_encoder.fit_transform(credit_cp['Payment_of_Min_Amount'])"
   ]
  },
  {
   "cell_type": "code",
   "execution_count": 17,
   "id": "c5363336-b0a0-4a27-bc62-625ae4819962",
   "metadata": {
    "tags": []
   },
   "outputs": [
    {
     "data": {
      "text/plain": [
       "{'No Data',\n",
       " 'auto loan',\n",
       " 'credit-builder loan',\n",
       " 'debt consolidation loan',\n",
       " 'home equity loan',\n",
       " 'mortgage loan',\n",
       " 'not specified',\n",
       " 'payday loan',\n",
       " 'personal loan',\n",
       " 'student loan'}"
      ]
     },
     "execution_count": 17,
     "metadata": {},
     "output_type": "execute_result"
    }
   ],
   "source": [
    "unique_loans = set()\n",
    "for loans in credit_cp['Type_of_Loan'].str.split(','):\n",
    "    unique_loans.update(loans)\n",
    "unique_loans"
   ]
  },
  {
   "cell_type": "code",
   "execution_count": 18,
   "id": "21a3aef2-915c-4e91-ae4a-13eba7de1437",
   "metadata": {
    "tags": []
   },
   "outputs": [],
   "source": [
    "Type_of_loan = credit_cp['Type_of_Loan'].str.get_dummies(sep=',')\n",
    "credit_cp = pd.concat([credit_cp, Type_of_loan], axis=1)\n",
    "credit_cp = credit_cp.drop('Type_of_Loan',axis = 1)"
   ]
  },
  {
   "cell_type": "code",
   "execution_count": 19,
   "id": "b58a7dff-1e5a-4a32-9af9-1c4d9e743998",
   "metadata": {
    "tags": []
   },
   "outputs": [
    {
     "name": "stdout",
     "output_type": "stream",
     "text": [
      "<class 'pandas.core.frame.DataFrame'>\n",
      "RangeIndex: 100000 entries, 0 to 99999\n",
      "Data columns (total 33 columns):\n",
      " #   Column                    Non-Null Count   Dtype  \n",
      "---  ------                    --------------   -----  \n",
      " 0   Month                     100000 non-null  int64  \n",
      " 1   Age                       100000 non-null  float64\n",
      " 2   Occupation                100000 non-null  int32  \n",
      " 3   Annual_Income             100000 non-null  float64\n",
      " 4   Monthly_Inhand_Salary     100000 non-null  float64\n",
      " 5   Num_Bank_Accounts         100000 non-null  float64\n",
      " 6   Num_Credit_Card           100000 non-null  float64\n",
      " 7   Interest_Rate             100000 non-null  float64\n",
      " 8   Num_of_Loan               100000 non-null  float64\n",
      " 9   Delay_from_due_date       100000 non-null  float64\n",
      " 10  Num_of_Delayed_Payment    100000 non-null  float64\n",
      " 11  Changed_Credit_Limit      100000 non-null  float64\n",
      " 12  Num_Credit_Inquiries      100000 non-null  float64\n",
      " 13  Credit_Mix                100000 non-null  float64\n",
      " 14  Outstanding_Debt          100000 non-null  float64\n",
      " 15  Credit_Utilization_Ratio  100000 non-null  float64\n",
      " 16  Credit_History_Age        100000 non-null  float64\n",
      " 17  Payment_of_Min_Amount     100000 non-null  int32  \n",
      " 18  Total_EMI_per_month       100000 non-null  float64\n",
      " 19  Amount_invested_monthly   100000 non-null  float64\n",
      " 20  Payment_Behaviour         100000 non-null  float64\n",
      " 21  Monthly_Balance           100000 non-null  float64\n",
      " 22  Credit_Score              100000 non-null  float64\n",
      " 23  No Data                   100000 non-null  int64  \n",
      " 24  auto loan                 100000 non-null  int64  \n",
      " 25  credit-builder loan       100000 non-null  int64  \n",
      " 26  debt consolidation loan   100000 non-null  int64  \n",
      " 27  home equity loan          100000 non-null  int64  \n",
      " 28  mortgage loan             100000 non-null  int64  \n",
      " 29  not specified             100000 non-null  int64  \n",
      " 30  payday loan               100000 non-null  int64  \n",
      " 31  personal loan             100000 non-null  int64  \n",
      " 32  student loan              100000 non-null  int64  \n",
      "dtypes: float64(20), int32(2), int64(11)\n",
      "memory usage: 24.4 MB\n"
     ]
    }
   ],
   "source": [
    "credit_cp.info()"
   ]
  },
  {
   "cell_type": "code",
   "execution_count": 20,
   "id": "a978a132-dd3d-4ab3-97d6-85c3cd627593",
   "metadata": {
    "tags": []
   },
   "outputs": [
    {
     "data": {
      "text/html": [
       "<div>\n",
       "<style scoped>\n",
       "    .dataframe tbody tr th:only-of-type {\n",
       "        vertical-align: middle;\n",
       "    }\n",
       "\n",
       "    .dataframe tbody tr th {\n",
       "        vertical-align: top;\n",
       "    }\n",
       "\n",
       "    .dataframe thead th {\n",
       "        text-align: right;\n",
       "    }\n",
       "</style>\n",
       "<table border=\"1\" class=\"dataframe\">\n",
       "  <thead>\n",
       "    <tr style=\"text-align: right;\">\n",
       "      <th></th>\n",
       "      <th>Month</th>\n",
       "      <th>Age</th>\n",
       "      <th>Occupation</th>\n",
       "      <th>Annual_Income</th>\n",
       "      <th>Monthly_Inhand_Salary</th>\n",
       "      <th>Num_Bank_Accounts</th>\n",
       "      <th>Num_Credit_Card</th>\n",
       "      <th>Interest_Rate</th>\n",
       "      <th>Num_of_Loan</th>\n",
       "      <th>Delay_from_due_date</th>\n",
       "      <th>...</th>\n",
       "      <th>No Data</th>\n",
       "      <th>auto loan</th>\n",
       "      <th>credit-builder loan</th>\n",
       "      <th>debt consolidation loan</th>\n",
       "      <th>home equity loan</th>\n",
       "      <th>mortgage loan</th>\n",
       "      <th>not specified</th>\n",
       "      <th>payday loan</th>\n",
       "      <th>personal loan</th>\n",
       "      <th>student loan</th>\n",
       "    </tr>\n",
       "  </thead>\n",
       "  <tbody>\n",
       "    <tr>\n",
       "      <th>0</th>\n",
       "      <td>1</td>\n",
       "      <td>23.0</td>\n",
       "      <td>12</td>\n",
       "      <td>19114.12</td>\n",
       "      <td>1824.843333</td>\n",
       "      <td>3.0</td>\n",
       "      <td>4.0</td>\n",
       "      <td>3.0</td>\n",
       "      <td>4.0</td>\n",
       "      <td>3.0</td>\n",
       "      <td>...</td>\n",
       "      <td>0</td>\n",
       "      <td>1</td>\n",
       "      <td>1</td>\n",
       "      <td>0</td>\n",
       "      <td>1</td>\n",
       "      <td>0</td>\n",
       "      <td>0</td>\n",
       "      <td>0</td>\n",
       "      <td>1</td>\n",
       "      <td>0</td>\n",
       "    </tr>\n",
       "    <tr>\n",
       "      <th>1</th>\n",
       "      <td>2</td>\n",
       "      <td>23.0</td>\n",
       "      <td>12</td>\n",
       "      <td>19114.12</td>\n",
       "      <td>1824.843333</td>\n",
       "      <td>3.0</td>\n",
       "      <td>4.0</td>\n",
       "      <td>3.0</td>\n",
       "      <td>4.0</td>\n",
       "      <td>3.0</td>\n",
       "      <td>...</td>\n",
       "      <td>0</td>\n",
       "      <td>1</td>\n",
       "      <td>1</td>\n",
       "      <td>0</td>\n",
       "      <td>1</td>\n",
       "      <td>0</td>\n",
       "      <td>0</td>\n",
       "      <td>0</td>\n",
       "      <td>1</td>\n",
       "      <td>0</td>\n",
       "    </tr>\n",
       "    <tr>\n",
       "      <th>2</th>\n",
       "      <td>3</td>\n",
       "      <td>23.0</td>\n",
       "      <td>12</td>\n",
       "      <td>19114.12</td>\n",
       "      <td>1824.843333</td>\n",
       "      <td>3.0</td>\n",
       "      <td>4.0</td>\n",
       "      <td>3.0</td>\n",
       "      <td>4.0</td>\n",
       "      <td>3.0</td>\n",
       "      <td>...</td>\n",
       "      <td>0</td>\n",
       "      <td>1</td>\n",
       "      <td>1</td>\n",
       "      <td>0</td>\n",
       "      <td>1</td>\n",
       "      <td>0</td>\n",
       "      <td>0</td>\n",
       "      <td>0</td>\n",
       "      <td>1</td>\n",
       "      <td>0</td>\n",
       "    </tr>\n",
       "    <tr>\n",
       "      <th>3</th>\n",
       "      <td>4</td>\n",
       "      <td>23.0</td>\n",
       "      <td>12</td>\n",
       "      <td>19114.12</td>\n",
       "      <td>1824.843333</td>\n",
       "      <td>3.0</td>\n",
       "      <td>4.0</td>\n",
       "      <td>3.0</td>\n",
       "      <td>4.0</td>\n",
       "      <td>5.0</td>\n",
       "      <td>...</td>\n",
       "      <td>0</td>\n",
       "      <td>1</td>\n",
       "      <td>1</td>\n",
       "      <td>0</td>\n",
       "      <td>1</td>\n",
       "      <td>0</td>\n",
       "      <td>0</td>\n",
       "      <td>0</td>\n",
       "      <td>1</td>\n",
       "      <td>0</td>\n",
       "    </tr>\n",
       "    <tr>\n",
       "      <th>4</th>\n",
       "      <td>5</td>\n",
       "      <td>23.0</td>\n",
       "      <td>12</td>\n",
       "      <td>19114.12</td>\n",
       "      <td>1824.843333</td>\n",
       "      <td>3.0</td>\n",
       "      <td>4.0</td>\n",
       "      <td>3.0</td>\n",
       "      <td>4.0</td>\n",
       "      <td>6.0</td>\n",
       "      <td>...</td>\n",
       "      <td>0</td>\n",
       "      <td>1</td>\n",
       "      <td>1</td>\n",
       "      <td>0</td>\n",
       "      <td>1</td>\n",
       "      <td>0</td>\n",
       "      <td>0</td>\n",
       "      <td>0</td>\n",
       "      <td>1</td>\n",
       "      <td>0</td>\n",
       "    </tr>\n",
       "  </tbody>\n",
       "</table>\n",
       "<p>5 rows × 33 columns</p>\n",
       "</div>"
      ],
      "text/plain": [
       "   Month   Age  Occupation  Annual_Income  Monthly_Inhand_Salary  \\\n",
       "0      1  23.0          12       19114.12            1824.843333   \n",
       "1      2  23.0          12       19114.12            1824.843333   \n",
       "2      3  23.0          12       19114.12            1824.843333   \n",
       "3      4  23.0          12       19114.12            1824.843333   \n",
       "4      5  23.0          12       19114.12            1824.843333   \n",
       "\n",
       "   Num_Bank_Accounts  Num_Credit_Card  Interest_Rate  Num_of_Loan  \\\n",
       "0                3.0              4.0            3.0          4.0   \n",
       "1                3.0              4.0            3.0          4.0   \n",
       "2                3.0              4.0            3.0          4.0   \n",
       "3                3.0              4.0            3.0          4.0   \n",
       "4                3.0              4.0            3.0          4.0   \n",
       "\n",
       "   Delay_from_due_date  ...  No Data  auto loan  credit-builder loan  \\\n",
       "0                  3.0  ...        0          1                    1   \n",
       "1                  3.0  ...        0          1                    1   \n",
       "2                  3.0  ...        0          1                    1   \n",
       "3                  5.0  ...        0          1                    1   \n",
       "4                  6.0  ...        0          1                    1   \n",
       "\n",
       "   debt consolidation loan  home equity loan  mortgage loan  not specified  \\\n",
       "0                        0                 1              0              0   \n",
       "1                        0                 1              0              0   \n",
       "2                        0                 1              0              0   \n",
       "3                        0                 1              0              0   \n",
       "4                        0                 1              0              0   \n",
       "\n",
       "   payday loan  personal loan  student loan  \n",
       "0            0              1             0  \n",
       "1            0              1             0  \n",
       "2            0              1             0  \n",
       "3            0              1             0  \n",
       "4            0              1             0  \n",
       "\n",
       "[5 rows x 33 columns]"
      ]
     },
     "execution_count": 20,
     "metadata": {},
     "output_type": "execute_result"
    }
   ],
   "source": [
    "credit_cp.head()"
   ]
  },
  {
   "cell_type": "code",
   "execution_count": 21,
   "id": "c0f153d9-0d80-4f48-9bc8-65280eb32d6b",
   "metadata": {
    "tags": []
   },
   "outputs": [],
   "source": [
    "y = credit_cp['Credit_Score']\n",
    "X = credit_cp.drop('Credit_Score', axis = 1)"
   ]
  },
  {
   "cell_type": "markdown",
   "id": "d5215743-f2ed-4635-8718-4088b7be213b",
   "metadata": {},
   "source": [
    "# Class distribution"
   ]
  },
  {
   "cell_type": "code",
   "execution_count": 22,
   "id": "4262ab16-703d-4cce-a496-ebdac0f54f4f",
   "metadata": {
    "tags": []
   },
   "outputs": [
    {
     "data": {
      "image/png": "[encoded data removed]",
      "text/plain": [
       "<Figure size 800x600 with 1 Axes>"
      ]
     },
     "metadata": {},
     "output_type": "display_data"
    }
   ],
   "source": [
    "unique_classes, class_counts = np.unique(y, return_counts=True)\n",
    "\n",
    "plt.figure(figsize=(8, 6))\n",
    "plt.bar(unique_classes, class_counts, color='skyblue')\n",
    "plt.xlabel('Class')\n",
    "plt.ylabel('Frequency')\n",
    "plt.title('Class Distribution')\n",
    "plt.xticks(unique_classes)  \n",
    "plt.grid(axis='y', linestyle='--', alpha=0.7)\n",
    "plt.show()"
   ]
  },
  {
   "cell_type": "code",
   "execution_count": 23,
   "id": "8a759387-04cd-43f6-831a-c14e59be573c",
   "metadata": {
    "tags": []
   },
   "outputs": [],
   "source": [
    "from imblearn.over_sampling import RandomOverSampler"
   ]
  },
  {
   "cell_type": "code",
   "execution_count": 24,
   "id": "c87b62f8-607e-4bdb-b975-2ffe02aa85e3",
   "metadata": {
    "tags": []
   },
   "outputs": [],
   "source": [
    "ros = RandomOverSampler(random_state=42)\n",
    "X, y = ros.fit_resample(X, y)"
   ]
  },
  {
   "cell_type": "code",
   "execution_count": 25,
   "id": "a03d00c5-80a6-40da-9fac-0b681b8c22f8",
   "metadata": {
    "tags": []
   },
   "outputs": [
    {
     "data": {
      "image/png": "[encoded data removed]",
      "text/plain": [
       "<Figure size 800x600 with 1 Axes>"
      ]
     },
     "metadata": {},
     "output_type": "display_data"
    }
   ],
   "source": [
    "unique_classes, class_counts = np.unique(y, return_counts=True)\n",
    "\n",
    "plt.figure(figsize=(8, 6))\n",
    "plt.bar(unique_classes, class_counts, color='skyblue')\n",
    "plt.xlabel('Class')\n",
    "plt.ylabel('Frequency')\n",
    "plt.title('Class Distribution')\n",
    "plt.xticks(unique_classes)  \n",
    "plt.grid(axis='y', linestyle='--', alpha=0.7)\n",
    "plt.show()"
   ]
  },
  {
   "cell_type": "markdown",
   "id": "876d0b44-cf20-4ae0-a180-d947ea833e10",
   "metadata": {},
   "source": [
    "# Feature Importance and Mutual Information"
   ]
  },
  {
   "cell_type": "code",
   "execution_count": 26,
   "id": "5ee100b4-6c00-44d9-9cb8-17775d2cc97f",
   "metadata": {
    "scrolled": true,
    "tags": []
   },
   "outputs": [
    {
     "name": "stdout",
     "output_type": "stream",
     "text": [
      "Feature 'Month': Mutual Information Score = 0.7969862236121419\n",
      "Feature 'Age': Mutual Information Score = 0.7937935156644176\n",
      "Feature 'Occupation': Mutual Information Score = 0.7854349711803499\n",
      "Feature 'Annual_Income': Mutual Information Score = 0.7793651922500275\n",
      "Feature 'Monthly_Inhand_Salary': Mutual Information Score = 0.7190999789678134\n",
      "Feature 'Num_Bank_Accounts': Mutual Information Score = 0.35607470079892023\n",
      "Feature 'Num_Credit_Card': Mutual Information Score = 0.32556756953718136\n",
      "Feature 'Interest_Rate': Mutual Information Score = 0.2640663490203188\n",
      "Feature 'Num_of_Loan': Mutual Information Score = 0.23705843514366842\n",
      "Feature 'Delay_from_due_date': Mutual Information Score = 0.17356300817840697\n",
      "Feature 'Num_of_Delayed_Payment': Mutual Information Score = 0.16953129373958253\n",
      "Feature 'Changed_Credit_Limit': Mutual Information Score = 0.16389069337854378\n",
      "Feature 'Num_Credit_Inquiries': Mutual Information Score = 0.1557671244119354\n",
      "Feature 'Credit_Mix': Mutual Information Score = 0.1550807891604773\n",
      "Feature 'Outstanding_Debt': Mutual Information Score = 0.14960493533395436\n",
      "Feature 'Credit_Utilization_Ratio': Mutual Information Score = 0.14896581527139885\n",
      "Feature 'Credit_History_Age': Mutual Information Score = 0.12905523755456638\n",
      "Feature 'Payment_of_Min_Amount': Mutual Information Score = 0.1260050634725518\n",
      "Feature 'Total_EMI_per_month': Mutual Information Score = 0.03593477281899404\n",
      "Feature 'Amount_invested_monthly': Mutual Information Score = 0.02156757564839129\n",
      "Feature 'Payment_Behaviour': Mutual Information Score = 0.021464443722270854\n",
      "Feature 'Monthly_Balance': Mutual Information Score = 0.021145442079358645\n",
      "Feature 'No Data': Mutual Information Score = 0.020108933208007773\n",
      "Feature 'auto loan': Mutual Information Score = 0.018396334003501824\n",
      "Feature 'credit-builder loan': Mutual Information Score = 0.01749977227315158\n",
      "Feature 'debt consolidation loan': Mutual Information Score = 0.017498365782511627\n",
      "Feature 'home equity loan': Mutual Information Score = 0.016895435218540644\n",
      "Feature 'mortgage loan': Mutual Information Score = 0.01675454667131593\n",
      "Feature 'not specified': Mutual Information Score = 0.01636883009125567\n",
      "Feature 'payday loan': Mutual Information Score = 0.013620664030241425\n",
      "Feature 'personal loan': Mutual Information Score = 0.0006602851454338143\n",
      "Feature 'student loan': Mutual Information Score = 0.0\n"
     ]
    }
   ],
   "source": [
    "from sklearn.feature_selection import mutual_info_classif\n",
    "mi_scores = mutual_info_classif(X, y)\n",
    "\n",
    "for i, score in enumerate(sorted(mi_scores, reverse = True)):\n",
    "    print(f\"Feature '{X.columns[i]}': Mutual Information Score = {score}\")"
   ]
  },
  {
   "cell_type": "code",
   "execution_count": 27,
   "id": "5fc1fc8c-e11a-4758-99b8-f7e734876fe3",
   "metadata": {
    "tags": []
   },
   "outputs": [
    {
     "data": {
      "image/png": "[encoded data removed]",
      "text/plain": [
       "<Figure size 1000x500 with 1 Axes>"
      ]
     },
     "metadata": {},
     "output_type": "display_data"
    }
   ],
   "source": [
    "import matplotlib.pyplot as plt\n",
    "\n",
    "plt.figure(figsize=(10, 5))\n",
    "plt.bar(range(len(mi_scores)), sorted(mi_scores, reverse=True))\n",
    "plt.xlabel('Feature Index')\n",
    "plt.ylabel('Mutual Information Score')\n",
    "plt.title('Mutual Information Scores for Features')\n",
    "plt.xticks(range(len(mi_scores)), X.columns, rotation=90)\n",
    "\n",
    "plt.show()"
   ]
  },
  {
   "cell_type": "markdown",
   "id": "aa7ae2b0-f216-4ada-aabd-b038e460f71a",
   "metadata": {},
   "source": [
    "# Scaling"
   ]
  },
  {
   "cell_type": "code",
   "execution_count": 28,
   "id": "b40df1ee-87d5-4f91-8042-7fdcd94d8b01",
   "metadata": {
    "tags": []
   },
   "outputs": [],
   "source": [
    "from sklearn.preprocessing import MinMaxScaler #import\n",
    "scaler = MinMaxScaler()\n",
    "X = scaler.fit_transform(X)"
   ]
  },
  {
   "cell_type": "markdown",
   "id": "029498a5-97af-4c86-a46c-cd064119885c",
   "metadata": {},
   "source": [
    "# Train Test Split"
   ]
  },
  {
   "cell_type": "code",
   "execution_count": 29,
   "id": "e76af846-8cdf-4fba-8254-5e3e0d90a4d5",
   "metadata": {
    "tags": []
   },
   "outputs": [],
   "source": [
    "from sklearn.model_selection import train_test_split\n",
    "\n",
    "X_train, X_test, y_train, y_test = train_test_split(X,y, test_size=0.2, random_state = 42)"
   ]
  },
  {
   "cell_type": "code",
   "execution_count": 30,
   "id": "2c39a03b-2004-4550-a24b-c51fdf828584",
   "metadata": {
    "tags": []
   },
   "outputs": [
    {
     "data": {
      "text/plain": [
       "32"
      ]
     },
     "execution_count": 30,
     "metadata": {},
     "output_type": "execute_result"
    }
   ],
   "source": [
    "len(X_train[1])"
   ]
  },
  {
   "cell_type": "markdown",
   "id": "2eb0825e-47c5-4c24-ae9d-c66a6d67eeb1",
   "metadata": {},
   "source": [
    "# Decision Tree Classifier (with hyperparameter tuning)"
   ]
  },
  {
   "cell_type": "code",
   "execution_count": 341,
   "id": "3c31f315-cc9a-4353-81ef-7e24ccbc05c7",
   "metadata": {
    "tags": []
   },
   "outputs": [
    {
     "data": {
      "image/png": "[encoded data removed]",
      "text/plain": [
       "<Figure size 1000x600 with 1 Axes>"
      ]
     },
     "metadata": {},
     "output_type": "display_data"
    }
   ],
   "source": [
    "from sklearn.tree import DecisionTreeClassifier\n",
    "from sklearn.metrics import accuracy_score\n",
    "import matplotlib.pyplot as plt\n",
    "\n",
    "depths = []\n",
    "test_accuracies = []\n",
    "train_accuracies = []\n",
    "max_depth_values = range(10,31)  \n",
    "\n",
    "\n",
    "for max_depth in max_depth_values:\n",
    "    clf = DecisionTreeClassifier(max_depth=max_depth)\n",
    "    clf.fit(X_train, y_train)\n",
    "    # Predict on the test set\n",
    "    y_pred = clf.predict(X_test)\n",
    "    \n",
    "    train_acc = clf.score(X_train, y_train)\n",
    "    test_acc = clf.score(X_test, y_test)\n",
    "    depths.append(max_depth)\n",
    "    test_accuracies.append(test_acc)\n",
    "    train_accuracies.append(train_acc)\n",
    "# Plot the results\n",
    "plt.figure(figsize=(10, 6))\n",
    "plt.plot(depths, train_accuracies, 'ro')\n",
    "plt.plot(depths, test_accuracies, 'go', )\n",
    "plt.title('Accuracy vs. Max Depth')\n",
    "plt.xlabel('Max Depth')\n",
    "plt.ylabel('Accuracy')\n",
    "plt.xticks(depths)\n",
    "plt.grid(True)\n",
    "plt.show()\n"
   ]
  },
  {
   "cell_type": "markdown",
   "id": "7da75b29-8226-454b-8281-e1c9819bac00",
   "metadata": {},
   "source": [
    "depth of 27 is the best"
   ]
  },
  {
   "cell_type": "markdown",
   "id": "1b4e9ef2-d01a-49a2-9675-4a79c7de44f2",
   "metadata": {},
   "source": [
    "# KNN classifier (with hyperparameter tuning)"
   ]
  },
  {
   "cell_type": "code",
   "execution_count": 351,
   "id": "82336356-8c1c-45bc-b4bc-fc380b1ffa38",
   "metadata": {
    "tags": []
   },
   "outputs": [
    {
     "data": {
      "image/png": "[encoded data removed]",
      "text/plain": [
       "<Figure size 640x480 with 1 Axes>"
      ]
     },
     "metadata": {},
     "output_type": "display_data"
    }
   ],
   "source": [
    "from sklearn.neighbors import KNeighborsClassifier\n",
    "train_score = {}\n",
    "test_score = {}\n",
    "n_neighbors = np.arange(2, 40, 2)\n",
    "for neighbor in n_neighbors:\n",
    "    knn = KNeighborsClassifier(n_neighbors=neighbor)\n",
    "    knn.fit(X_train, y_train)\n",
    "    train_score[neighbor]=knn.score(X_train, y_train)\n",
    "    test_score[neighbor]=knn.score(X_test, y_test)\n",
    "plt.plot(n_neighbors, train_score.values(), label=\"Train Accuracy\")\n",
    "plt.plot(n_neighbors, test_score.values(), label=\"Test Accuracy\")\n",
    "plt.xlabel(\"Number Of Neighbors\")\n",
    "plt.ylabel(\"Accuracy\")\n",
    "plt.title(\"KNN: Varying number of Neighbors\")\n",
    "plt.legend()\n",
    "plt.xlim(0, 40)\n",
    "plt.ylim(0.70, 0.90)\n",
    "plt.grid()\n",
    "plt.show()"
   ]
  },
  {
   "cell_type": "markdown",
   "id": "8b17c30c-da0f-419a-b61f-0e23bcf938a9",
   "metadata": {
    "tags": []
   },
   "source": [
    "# Naive Bayes"
   ]
  },
  {
   "cell_type": "code",
   "execution_count": 355,
   "id": "5606a2cd-e28f-404f-a14b-8a88bd722426",
   "metadata": {
    "tags": []
   },
   "outputs": [
    {
     "data": {
      "text/html": [
       "<style>#sk-container-id-5 {color: black;}#sk-container-id-5 pre{padding: 0;}#sk-container-id-5 div.sk-toggleable {background-color: white;}#sk-container-id-5 label.sk-toggleable__label {cursor: pointer;display: block;width: 100%;margin-bottom: 0;padding: 0.3em;box-sizing: border-box;text-align: center;}#sk-container-id-5 label.sk-toggleable__label-arrow:before {content: \"▸\";float: left;margin-right: 0.25em;color: #696969;}#sk-container-id-5 label.sk-toggleable__label-arrow:hover:before {color: black;}#sk-container-id-5 div.sk-estimator:hover label.sk-toggleable__label-arrow:before {color: black;}#sk-container-id-5 div.sk-toggleable__content {max-height: 0;max-width: 0;overflow: hidden;text-align: left;background-color: #f0f8ff;}#sk-container-id-5 div.sk-toggleable__content pre {margin: 0.2em;color: black;border-radius: 0.25em;background-color: #f0f8ff;}#sk-container-id-5 input.sk-toggleable__control:checked~div.sk-toggleable__content {max-height: 200px;max-width: 100%;overflow: auto;}#sk-container-id-5 input.sk-toggleable__control:checked~label.sk-toggleable__label-arrow:before {content: \"▾\";}#sk-container-id-5 div.sk-estimator input.sk-toggleable__control:checked~label.sk-toggleable__label {background-color: #d4ebff;}#sk-container-id-5 div.sk-label input.sk-toggleable__control:checked~label.sk-toggleable__label {background-color: #d4ebff;}#sk-container-id-5 input.sk-hidden--visually {border: 0;clip: rect(1px 1px 1px 1px);clip: rect(1px, 1px, 1px, 1px);height: 1px;margin: -1px;overflow: hidden;padding: 0;position: absolute;width: 1px;}#sk-container-id-5 div.sk-estimator {font-family: monospace;background-color: #f0f8ff;border: 1px dotted black;border-radius: 0.25em;box-sizing: border-box;margin-bottom: 0.5em;}#sk-container-id-5 div.sk-estimator:hover {background-color: #d4ebff;}#sk-container-id-5 div.sk-parallel-item::after {content: \"\";width: 100%;border-bottom: 1px solid gray;flex-grow: 1;}#sk-container-id-5 div.sk-label:hover label.sk-toggleable__label {background-color: #d4ebff;}#sk-container-id-5 div.sk-serial::before {content: \"\";position: absolute;border-left: 1px solid gray;box-sizing: border-box;top: 0;bottom: 0;left: 50%;z-index: 0;}#sk-container-id-5 div.sk-serial {display: flex;flex-direction: column;align-items: center;background-color: white;padding-right: 0.2em;padding-left: 0.2em;position: relative;}#sk-container-id-5 div.sk-item {position: relative;z-index: 1;}#sk-container-id-5 div.sk-parallel {display: flex;align-items: stretch;justify-content: center;background-color: white;position: relative;}#sk-container-id-5 div.sk-item::before, #sk-container-id-5 div.sk-parallel-item::before {content: \"\";position: absolute;border-left: 1px solid gray;box-sizing: border-box;top: 0;bottom: 0;left: 50%;z-index: -1;}#sk-container-id-5 div.sk-parallel-item {display: flex;flex-direction: column;z-index: 1;position: relative;background-color: white;}#sk-container-id-5 div.sk-parallel-item:first-child::after {align-self: flex-end;width: 50%;}#sk-container-id-5 div.sk-parallel-item:last-child::after {align-self: flex-start;width: 50%;}#sk-container-id-5 div.sk-parallel-item:only-child::after {width: 0;}#sk-container-id-5 div.sk-dashed-wrapped {border: 1px dashed gray;margin: 0 0.4em 0.5em 0.4em;box-sizing: border-box;padding-bottom: 0.4em;background-color: white;}#sk-container-id-5 div.sk-label label {font-family: monospace;font-weight: bold;display: inline-block;line-height: 1.2em;}#sk-container-id-5 div.sk-label-container {text-align: center;}#sk-container-id-5 div.sk-container {/* jupyter's `normalize.less` sets `[hidden] { display: none; }` but bootstrap.min.css set `[hidden] { display: none !important; }` so we also need the `!important` here to be able to override the default hidden behavior on the sphinx rendered scikit-learn.org. See: https://github.com/scikit-learn/scikit-learn/issues/21755 */display: inline-block !important;position: relative;}#sk-container-id-5 div.sk-text-repr-fallback {display: none;}</style><div id=\"sk-container-id-5\" class=\"sk-top-container\"><div class=\"sk-text-repr-fallback\"><pre>GaussianNB()</pre><b>In a Jupyter environment, please rerun this cell to show the HTML representation or trust the notebook. <br />On GitHub, the HTML representation is unable to render, please try loading this page with nbviewer.org.</b></div><div class=\"sk-container\" hidden><div class=\"sk-item\"><div class=\"sk-estimator sk-toggleable\"><input class=\"sk-toggleable__control sk-hidden--visually\" id=\"sk-estimator-id-9\" type=\"checkbox\" checked><label for=\"sk-estimator-id-9\" class=\"sk-toggleable__label sk-toggleable__label-arrow\">GaussianNB</label><div class=\"sk-toggleable__content\"><pre>GaussianNB()</pre></div></div></div></div></div>"
      ],
      "text/plain": [
       "GaussianNB()"
      ]
     },
     "execution_count": 355,
     "metadata": {},
     "output_type": "execute_result"
    }
   ],
   "source": [
    "from sklearn.naive_bayes import GaussianNB\n",
    "clf = GaussianNB()\n",
    "clf.fit(X_train, y_train)"
   ]
  },
  {
   "cell_type": "code",
   "execution_count": 356,
   "id": "28a58d29-44df-4fbb-b2da-7cacda23ab28",
   "metadata": {
    "tags": []
   },
   "outputs": [
    {
     "name": "stdout",
     "output_type": "stream",
     "text": [
      "0.6712350235470196\n",
      "0.6683278482996395\n"
     ]
    }
   ],
   "source": [
    "print(clf.score(X_train,y_train))\n",
    "print(clf.score(X_test, y_test))"
   ]
  },
  {
   "cell_type": "markdown",
   "id": "3ded3ea8-a6d1-4e07-9656-4be25583b0eb",
   "metadata": {},
   "source": [
    "# SVM - nonlinear kernel (with hyperparameter tuning)"
   ]
  },
  {
   "cell_type": "code",
   "execution_count": null,
   "id": "43ba6ff3-a123-47d1-b15f-fff7dffcdef0",
   "metadata": {
    "tags": []
   },
   "outputs": [],
   "source": [
    "from sklearn.model_selection import GridSearchCV\n",
    "from sklearn.svm import SVC\n",
    "\n",
    "# Define the parameter grid for Grid Search\n",
    "param_grid = {'C': [0.1, 1, 10],\n",
    "              'gamma': [0.1, 1, 10],\n",
    "              'kernel': ['poly', 'rbf']}\n",
    "\n",
    "# Initialize the SVM classifier\n",
    "svm_classifier = SVC()\n",
    "\n",
    "# Perform Grid Search with 5-fold cross-validation\n",
    "grid_search = GridSearchCV(svm_classifier, param_grid, cv=5, scoring='accuracy')\n",
    "\n",
    "# Fit the Grid Search to the data\n",
    "grid_search.fit(X_train, y_train)\n",
    "\n",
    "# Get the best hyperparameters\n",
    "best_params = grid_search.best_params_\n",
    "print(\"Best Parameters:\", best_params)\n",
    "\n",
    "# Initialize SVM classifier with the best hyperparameters\n",
    "best_svm_classifier = SVC(**best_params)\n",
    "\n",
    "# Train the classifier on the entire training data\n",
    "best_svm_classifier.fit(X_train, y_train)\n",
    "\n",
    "# Evaluate the classifier on the test data\n",
    "test_accuracy = best_svm_classifier.score(X_test, y_test)\n",
    "print(\"Test Accuracy:\", test_accuracy)\n"
   ]
  },
  {
   "cell_type": "code",
   "execution_count": 42,
   "id": "1c7c0569-6f26-4fb3-abe7-5364e825af7b",
   "metadata": {
    "tags": []
   },
   "outputs": [
    {
     "data": {
      "text/plain": [
       "0.7496317191662749"
      ]
     },
     "execution_count": 42,
     "metadata": {},
     "output_type": "execute_result"
    }
   ],
   "source": [
    "svm_classifier = SVC(kernel='poly')\n",
    "\n",
    "svm_classifier.fit(X_train, y_train)\n",
    "\n",
    "svm_classifier.score(X_test, y_test)"
   ]
  },
  {
   "cell_type": "code",
   "execution_count": 43,
   "id": "ab7d18f1-04ea-49e6-9703-3b585ddeefcc",
   "metadata": {
    "tags": []
   },
   "outputs": [
    {
     "data": {
      "text/plain": [
       "0.7045917567779345"
      ]
     },
     "execution_count": 43,
     "metadata": {},
     "output_type": "execute_result"
    }
   ],
   "source": [
    "svm_linear = SVC(kernel='linear')\n",
    "\n",
    "svm_linear.fit(X_train, y_train)\n",
    "\n",
    "svm_linear.score(X_test, y_test)"
   ]
  },
  {
   "cell_type": "code",
   "execution_count": null,
   "id": "0d66b537-934d-48d5-9522-e769eff7d990",
   "metadata": {
    "tags": []
   },
   "outputs": [],
   "source": [
    "from sklearn.svm import SVC\n",
    "from sklearn.metrics import accuracy_score\n",
    "import matplotlib.pyplot as plt\n",
    "\n",
    "# Define different values of C and gamma\n",
    "C_values = [0.1, 1, 10]\n",
    "gamma_values = [1, 0.1, 0.01]\n",
    "\n",
    "# Lists to store results\n",
    "Cs = []\n",
    "gammas = []\n",
    "test_accuracies = []\n",
    "train_accuracies = []\n",
    "\n",
    "for C in C_values:\n",
    "    for gamma in gamma_values:\n",
    "        # Create and fit the SVM model\n",
    "        svm_model = SVC(kernel='rbf', C=C, gamma=gamma)\n",
    "        svm_model.fit(X_train, y_train)\n",
    "\n",
    "        # Predict on the test set\n",
    "        y_pred = svm_model.predict(X_test)\n",
    "\n",
    "        # Calculate accuracy on train and test sets\n",
    "        train_acc = svm_model.score(X_train, y_train)\n",
    "        test_acc = svm_model.score(X_test, y_test)\n",
    "\n",
    "        # Append values to lists\n",
    "        Cs.append(C)\n",
    "        gammas.append(gamma)\n",
    "        test_accuracies.append(test_acc)\n",
    "        train_accuracies.append(train_acc)\n",
    "\n",
    "# Plot the results\n",
    "plt.figure(figsize=(10, 6))\n",
    "plt.plot(Cs, train_accuracies, 'ro', label='Train Accuracy')\n",
    "plt.plot(Cs, test_accuracies, 'go', label='Test Accuracy')\n",
    "plt.title('Accuracy vs. C (Regularization Parameter)')\n",
    "plt.xlabel('C (Regularization Parameter)')\n",
    "plt.ylabel('Accuracy')\n",
    "# plt.xscale('log')  # Set x-axis to logarithmic scale for better visualization\n",
    "plt.grid(True)\n",
    "# plt.legend()\n",
    "plt.show()"
   ]
  },
  {
   "cell_type": "markdown",
   "id": "86287e17-5ac9-42ce-a335-a195c52efbfc",
   "metadata": {},
   "source": [
    "# Feature Selection"
   ]
  },
  {
   "cell_type": "code",
   "execution_count": 40,
   "id": "0cb45aed-a97d-4e7d-9145-e32f9cb777c9",
   "metadata": {
    "tags": []
   },
   "outputs": [
    {
     "data": {
      "image/png": "[encoded data removed]",
      "text/plain": [
       "<Figure size 640x480 with 1 Axes>"
      ]
     },
     "metadata": {},
     "output_type": "display_data"
    },
    {
     "name": "stdout",
     "output_type": "stream",
     "text": [
      "[0.3551167528600533, 0.40068954709293214, 0.4304341012380505, 0.9060335370631563, 0.9105782792665726, 0.9114245416078984, 0.9125528913963329, 0.9147155618241655, 0.913242438489265, 0.9093245572794233, 0.8997962701770882, 0.8935276602413414, 0.8923366243535495, 0.9011753643629525, 0.9045604137282558, 0.8942798934336311, 0.8969753957060022, 0.8977903149976493, 0.9028365459959254, 0.9052499608211879, 0.8922425952045134, 0.8882620278953142, 0.8885441153424228, 0.8884187431437078, 0.8878545682494907, 0.8895784359818211, 0.8884187431437078, 0.8888262027895314, 0.8885441153424228, 0.8874784516533458, 0.8888575458392102, 0.887572480802382]\n"
     ]
    }
   ],
   "source": [
    "import numpy as np\n",
    "import matplotlib.pyplot as plt\n",
    "\n",
    "def compare_feature_selection(X_train, X_test, y_train, y_test, classifier_type):\n",
    "    classifiers = {\n",
    "        \"Decision Tree\": DecisionTreeClassifier(),\n",
    "        \"KNN\": KNeighborsClassifier(),\n",
    "        \"GaussianNB\": GaussianNB(),\n",
    "        \"SVM Linear\": SVC(kernel='linear'),\n",
    "        \"SVM Poly\": SVC(kernel='poly')\n",
    "    }\n",
    "    \n",
    "    if classifier_type not in classifiers:\n",
    "        raise ValueError(\"Invalid classifier type. Choose one of: Decision Tree, KNN, GaussianNB, SVM Linear, SVM Poly\")\n",
    "    \n",
    "    classifier = classifiers[classifier_type]\n",
    "    \n",
    "    max_features = range(1, len(X_train[0]) + 1)\n",
    "    results = []\n",
    "    \n",
    "    for num_features in max_features:\n",
    "        classifier.fit(X_train[:, :num_features], y_train)\n",
    "        train_acc = classifier.score(X_train[:, :num_features], y_train)\n",
    "        test_acc = classifier.score(X_test[:, :num_features], y_test)\n",
    "        results.append(test_acc)\n",
    "    \n",
    "    plt.plot(max_features, results)\n",
    "    plt.title('Accuracy vs. Number of Features')\n",
    "    plt.xlabel('Number of Features')\n",
    "    plt.ylabel('Accuracy')\n",
    "    plt.grid(True)\n",
    "    plt.show()\n",
    "    return results\n",
    "\n",
    "\n",
    "results_dt = compare_feature_selection(X_train, X_test, y_train, y_test, \"Decision Tree\")\n",
    "print(results_dt)"
   ]
  },
  {
   "cell_type": "code",
   "execution_count": 41,
   "id": "8783d4ef-2b6b-4bf2-8137-f95d1eece2cb",
   "metadata": {
    "tags": []
   },
   "outputs": [
    {
     "data": {
      "image/png": "[encoded data removed]",
      "text/plain": [
       "<Figure size 640x480 with 1 Axes>"
      ]
     },
     "metadata": {},
     "output_type": "display_data"
    },
    {
     "name": "stdout",
     "output_type": "stream",
     "text": [
      "[0.3504779815076007, 0.3948283968030089, 0.39501645510108135, 0.446262341325811, 0.4318445384735935, 0.504999216423758, 0.5555868986052342, 0.6196520921485661, 0.6286788904560414, 0.6396803008932769, 0.6440056417489421, 0.6468265162200282, 0.6492399310452907, 0.6838426578906127, 0.6813979000156716, 0.6812725278169566, 0.6795173170349476, 0.6822128193073186, 0.6884500861933867, 0.6874471086036671, 0.6867262184610563, 0.6835605704435042, 0.6779188215013321, 0.6761009246199655, 0.6762576398683592, 0.6753800344773546, 0.6740949694405266, 0.6728725905030559, 0.6705532048268297, 0.6692367967403229, 0.6685785926970694, 0.6683278482996395]\n"
     ]
    }
   ],
   "source": [
    "results_NB = compare_feature_selection(X_train, X_test, y_train, y_test, \"GaussianNB\")\n",
    "print(results_NB)"
   ]
  },
  {
   "cell_type": "code",
   "execution_count": 105,
   "id": "78ef99b6-3aab-4598-b2c1-8a4f01125d2f",
   "metadata": {
    "tags": []
   },
   "outputs": [
    {
     "data": {
      "text/plain": [
       "0.6749615118568649"
      ]
     },
     "execution_count": 105,
     "metadata": {},
     "output_type": "execute_result"
    }
   ],
   "source": [
    "from sklearn.metrics import f1_score, confusion_matrix, accuracy_score, precision_recall_fscore_support, classification_report\n",
    "\n",
    "f1_score(y_test, y_predict,average = 'macro')"
   ]
  },
  {
   "cell_type": "code",
   "execution_count": 106,
   "id": "7be64d71-2de3-498f-bcce-9c6629143944",
   "metadata": {
    "tags": []
   },
   "outputs": [
    {
     "data": {
      "text/plain": [
       "<Axes: >"
      ]
     },
     "execution_count": 106,
     "metadata": {},
     "output_type": "execute_result"
    },
    {
     "data": {
      "image/png": "[encoded data removed]",
      "text/plain": [
       "<Figure size 640x480 with 2 Axes>"
      ]
     },
     "metadata": {},
     "output_type": "display_data"
    }
   ],
   "source": [
    "import seaborn as sns\n",
    "sns.heatmap(confusion_matrix(y_test, y_predict), annot=True)"
   ]
  },
  {
   "cell_type": "code",
   "execution_count": 107,
   "id": "22c0b3f2-320d-4e84-b950-344a2b42e16d",
   "metadata": {
    "tags": []
   },
   "outputs": [
    {
     "data": {
      "text/plain": [
       "(array([0.51943463, 0.69394761, 0.78604204]),\n",
       " array([0.75021265, 0.65389854, 0.69497122]),\n",
       " array([0.6138499 , 0.67332807, 0.73770656]),\n",
       " array([ 3527,  5874, 10599], dtype=int64))"
      ]
     },
     "execution_count": 107,
     "metadata": {},
     "output_type": "execute_result"
    }
   ],
   "source": [
    "precision_recall_fscore_support(y_test, y_predict)"
   ]
  },
  {
   "cell_type": "code",
   "execution_count": 108,
   "id": "002451f3-8fe2-4a0a-a6c9-9257ab76c9b0",
   "metadata": {
    "tags": []
   },
   "outputs": [
    {
     "name": "stdout",
     "output_type": "stream",
     "text": [
      "              precision    recall  f1-score   support\n",
      "\n",
      "         0.0       0.52      0.75      0.61      3527\n",
      "         1.0       0.69      0.65      0.67      5874\n",
      "         2.0       0.79      0.69      0.74     10599\n",
      "\n",
      "    accuracy                           0.69     20000\n",
      "   macro avg       0.67      0.70      0.67     20000\n",
      "weighted avg       0.71      0.69      0.70     20000\n",
      "\n"
     ]
    }
   ],
   "source": [
    "print(classification_report(y_test, y_predict))"
   ]
  },
  {
   "cell_type": "code",
   "execution_count": 109,
   "id": "a516f614-37a5-4e6e-8847-4228a90fe32c",
   "metadata": {
    "tags": []
   },
   "outputs": [
    {
     "data": {
      "text/plain": [
       "[Text(0.5, 0.9, 'x[13] <= 0.299\\ngini = 0.601\\nsamples = 80000\\nvalue = [14301, 23124, 42575]'),\n",
       " Text(0.25, 0.7, 'x[12] <= 0.75\\ngini = 0.549\\nsamples = 54550\\nvalue = [13898, 7650, 33002]'),\n",
       " Text(0.125, 0.5, 'x[8] <= 0.25\\ngini = 0.631\\nsamples = 25779\\nvalue = [11904, 4994, 8881]'),\n",
       " Text(0.0625, 0.3, 'x[5] <= 0.227\\ngini = 0.578\\nsamples = 20358\\nvalue = [10632, 2173, 7553]'),\n",
       " Text(0.03125, 0.1, 'gini = 0.336\\nsamples = 3397\\nvalue = [2672, 2, 723]'),\n",
       " Text(0.09375, 0.1, 'gini = 0.601\\nsamples = 16961\\nvalue = [7960, 2171, 6830]'),\n",
       " Text(0.1875, 0.3, 'x[6] <= 0.379\\ngini = 0.614\\nsamples = 5421\\nvalue = [1272, 2821, 1328]'),\n",
       " Text(0.15625, 0.1, 'gini = 0.65\\nsamples = 4028\\nvalue = [1272, 1740, 1016]'),\n",
       " Text(0.21875, 0.1, 'gini = 0.348\\nsamples = 1393\\nvalue = [0, 1081, 312]'),\n",
       " Text(0.375, 0.5, 'x[6] <= 0.591\\ngini = 0.284\\nsamples = 28771\\nvalue = [1994, 2656, 24121]'),\n",
       " Text(0.3125, 0.3, 'x[17] <= 0.276\\ngini = 0.254\\nsamples = 27902\\nvalue = [1994, 1980, 23928]'),\n",
       " Text(0.28125, 0.1, 'gini = 0.244\\nsamples = 27444\\nvalue = [1770, 1965, 23709]'),\n",
       " Text(0.34375, 0.1, 'gini = 0.531\\nsamples = 458\\nvalue = [224, 15, 219]'),\n",
       " Text(0.4375, 0.3, 'x[17] <= 0.188\\ngini = 0.346\\nsamples = 869\\nvalue = [0, 676, 193]'),\n",
       " Text(0.40625, 0.1, 'gini = 0.333\\nsamples = 853\\nvalue = [0, 673, 180]'),\n",
       " Text(0.46875, 0.1, 'gini = 0.305\\nsamples = 16\\nvalue = [0, 3, 13]'),\n",
       " Text(0.75, 0.7, 'x[10] <= 0.491\\ngini = 0.489\\nsamples = 25450\\nvalue = [403, 15474, 9573]'),\n",
       " Text(0.625, 0.5, 'x[6] <= 0.409\\ngini = 0.4\\nsamples = 13192\\nvalue = [92, 9596, 3504]'),\n",
       " Text(0.5625, 0.3, 'x[9] <= 0.34\\ngini = 0.489\\nsamples = 791\\nvalue = [49, 226, 516]'),\n",
       " Text(0.53125, 0.1, 'gini = 0.591\\nsamples = 132\\nvalue = [15, 64, 53]'),\n",
       " Text(0.59375, 0.1, 'gini = 0.443\\nsamples = 659\\nvalue = [34, 162, 463]'),\n",
       " Text(0.6875, 0.3, 'x[17] <= 0.273\\ngini = 0.371\\nsamples = 12401\\nvalue = [43, 9370, 2988]'),\n",
       " Text(0.65625, 0.1, 'gini = 0.367\\nsamples = 12318\\nvalue = [37, 9349, 2932]'),\n",
       " Text(0.71875, 0.1, 'gini = 0.476\\nsamples = 83\\nvalue = [6, 21, 56]'),\n",
       " Text(0.875, 0.5, 'x[13] <= 0.509\\ngini = 0.524\\nsamples = 12258\\nvalue = [311, 5878, 6069]'),\n",
       " Text(0.8125, 0.3, 'x[6] <= 0.409\\ngini = 0.447\\nsamples = 3384\\nvalue = [41, 2283, 1060]'),\n",
       " Text(0.78125, 0.1, 'gini = 0.488\\nsamples = 484\\nvalue = [19, 157, 308]'),\n",
       " Text(0.84375, 0.1, 'gini = 0.395\\nsamples = 2900\\nvalue = [22, 2126, 752]'),\n",
       " Text(0.9375, 0.3, 'x[12] <= 0.5\\ngini = 0.516\\nsamples = 8874\\nvalue = [270, 3595, 5009]'),\n",
       " Text(0.90625, 0.1, 'gini = 0.513\\nsamples = 8462\\nvalue = [264, 3327, 4871]'),\n",
       " Text(0.96875, 0.1, 'gini = 0.464\\nsamples = 412\\nvalue = [6, 268, 138]')]"
      ]
     },
     "execution_count": 109,
     "metadata": {},
     "output_type": "execute_result"
    },
    {
     "data": {
      "image/png": "[encoded data removed]",
      "text/plain": [
       "<Figure size 640x480 with 1 Axes>"
      ]
     },
     "metadata": {},
     "output_type": "display_data"
    }
   ],
   "source": [
    "from sklearn import tree\n",
    "\n",
    "tree.plot_tree(clf)"
   ]
  },
  {
   "cell_type": "code",
   "execution_count": 110,
   "id": "348a5045-127d-4740-98cf-b538a7b89c98",
   "metadata": {
    "tags": []
   },
   "outputs": [
    {
     "data": {
      "text/plain": [
       "{'fit_time': array([0.4059267 , 0.37568521, 0.3699255 , 0.37175059]),\n",
       " 'score_time': array([0.03539729, 0.03500009, 0.03300047, 0.04960108]),\n",
       " 'test_accuracy': array([0.68716, 0.69132, 0.68848, 0.7016 ]),\n",
       " 'train_accuracy': array([0.69634667, 0.69465333, 0.69569333, 0.69297333]),\n",
       " 'test_f1_macro': array([0.66950952, 0.67523712, 0.67202643, 0.68579504]),\n",
       " 'train_f1_macro': array([0.67983062, 0.6786534 , 0.67900437, 0.67617228]),\n",
       " 'test_recall_macro': array([0.69551364, 0.70289541, 0.6979807 , 0.71301508]),\n",
       " 'train_recall_macro': array([0.70571782, 0.70612282, 0.70595675, 0.70270722]),\n",
       " 'test_precision_macro': array([0.66034007, 0.66684901, 0.66423508, 0.67895401]),\n",
       " 'train_precision_macro': array([0.67124494, 0.66990126, 0.67186334, 0.66796459]),\n",
       " 'test_roc_auc_ovr': array([0.83280041, 0.83322261, 0.83116966, 0.84177912]),\n",
       " 'train_roc_auc_ovr': array([0.83717444, 0.83685033, 0.83785348, 0.83436538])}"
      ]
     },
     "execution_count": 110,
     "metadata": {},
     "output_type": "execute_result"
    }
   ],
   "source": [
    "from sklearn.model_selection import cross_validate\n",
    "results = cross_validate(clf, X, y, cv=4, return_train_score=True, scoring=('accuracy', 'f1_macro', 'recall_macro', 'precision_macro', 'roc_auc_ovr'))\n",
    "results"
   ]
  },
  {
   "cell_type": "code",
   "execution_count": 111,
   "id": "303e0afb-f95a-4407-b8ba-4206aa01bc00",
   "metadata": {
    "tags": []
   },
   "outputs": [],
   "source": [
    "from sklearn.model_selection import GridSearchCV\n",
    "# Create the parameter grid based on the results of random search \n",
    "params = {\n",
    "    'max_depth': [2, 3, 5, 10, 20],\n",
    "    'min_samples_leaf': [5, 10, 20, 50, 100],\n",
    "    'criterion': [\"gini\", \"entropy\"]\n",
    "}\n",
    "# Instantiate the grid search model\n",
    "grid_search = GridSearchCV(estimator=clf, \n",
    "                           param_grid=params, \n",
    "                           cv=4, n_jobs=-1, verbose=1, scoring = \"accuracy\")\n"
   ]
  },
  {
   "cell_type": "code",
   "execution_count": 112,
   "id": "d18faae5-f811-4493-a46f-e21f364f775e",
   "metadata": {
    "tags": []
   },
   "outputs": [
    {
     "name": "stdout",
     "output_type": "stream",
     "text": [
      "Fitting 4 folds for each of 50 candidates, totalling 200 fits\n",
      "Wall time: 27.4 s\n"
     ]
    },
    {
     "data": {
      "text/html": [
       "<style>#sk-container-id-3 {color: black;}#sk-container-id-3 pre{padding: 0;}#sk-container-id-3 div.sk-toggleable {background-color: white;}#sk-container-id-3 label.sk-toggleable__label {cursor: pointer;display: block;width: 100%;margin-bottom: 0;padding: 0.3em;box-sizing: border-box;text-align: center;}#sk-container-id-3 label.sk-toggleable__label-arrow:before {content: \"▸\";float: left;margin-right: 0.25em;color: #696969;}#sk-container-id-3 label.sk-toggleable__label-arrow:hover:before {color: black;}#sk-container-id-3 div.sk-estimator:hover label.sk-toggleable__label-arrow:before {color: black;}#sk-container-id-3 div.sk-toggleable__content {max-height: 0;max-width: 0;overflow: hidden;text-align: left;background-color: #f0f8ff;}#sk-container-id-3 div.sk-toggleable__content pre {margin: 0.2em;color: black;border-radius: 0.25em;background-color: #f0f8ff;}#sk-container-id-3 input.sk-toggleable__control:checked~div.sk-toggleable__content {max-height: 200px;max-width: 100%;overflow: auto;}#sk-container-id-3 input.sk-toggleable__control:checked~label.sk-toggleable__label-arrow:before {content: \"▾\";}#sk-container-id-3 div.sk-estimator input.sk-toggleable__control:checked~label.sk-toggleable__label {background-color: #d4ebff;}#sk-container-id-3 div.sk-label input.sk-toggleable__control:checked~label.sk-toggleable__label {background-color: #d4ebff;}#sk-container-id-3 input.sk-hidden--visually {border: 0;clip: rect(1px 1px 1px 1px);clip: rect(1px, 1px, 1px, 1px);height: 1px;margin: -1px;overflow: hidden;padding: 0;position: absolute;width: 1px;}#sk-container-id-3 div.sk-estimator {font-family: monospace;background-color: #f0f8ff;border: 1px dotted black;border-radius: 0.25em;box-sizing: border-box;margin-bottom: 0.5em;}#sk-container-id-3 div.sk-estimator:hover {background-color: #d4ebff;}#sk-container-id-3 div.sk-parallel-item::after {content: \"\";width: 100%;border-bottom: 1px solid gray;flex-grow: 1;}#sk-container-id-3 div.sk-label:hover label.sk-toggleable__label {background-color: #d4ebff;}#sk-container-id-3 div.sk-serial::before {content: \"\";position: absolute;border-left: 1px solid gray;box-sizing: border-box;top: 0;bottom: 0;left: 50%;z-index: 0;}#sk-container-id-3 div.sk-serial {display: flex;flex-direction: column;align-items: center;background-color: white;padding-right: 0.2em;padding-left: 0.2em;position: relative;}#sk-container-id-3 div.sk-item {position: relative;z-index: 1;}#sk-container-id-3 div.sk-parallel {display: flex;align-items: stretch;justify-content: center;background-color: white;position: relative;}#sk-container-id-3 div.sk-item::before, #sk-container-id-3 div.sk-parallel-item::before {content: \"\";position: absolute;border-left: 1px solid gray;box-sizing: border-box;top: 0;bottom: 0;left: 50%;z-index: -1;}#sk-container-id-3 div.sk-parallel-item {display: flex;flex-direction: column;z-index: 1;position: relative;background-color: white;}#sk-container-id-3 div.sk-parallel-item:first-child::after {align-self: flex-end;width: 50%;}#sk-container-id-3 div.sk-parallel-item:last-child::after {align-self: flex-start;width: 50%;}#sk-container-id-3 div.sk-parallel-item:only-child::after {width: 0;}#sk-container-id-3 div.sk-dashed-wrapped {border: 1px dashed gray;margin: 0 0.4em 0.5em 0.4em;box-sizing: border-box;padding-bottom: 0.4em;background-color: white;}#sk-container-id-3 div.sk-label label {font-family: monospace;font-weight: bold;display: inline-block;line-height: 1.2em;}#sk-container-id-3 div.sk-label-container {text-align: center;}#sk-container-id-3 div.sk-container {/* jupyter's `normalize.less` sets `[hidden] { display: none; }` but bootstrap.min.css set `[hidden] { display: none !important; }` so we also need the `!important` here to be able to override the default hidden behavior on the sphinx rendered scikit-learn.org. See: https://github.com/scikit-learn/scikit-learn/issues/21755 */display: inline-block !important;position: relative;}#sk-container-id-3 div.sk-text-repr-fallback {display: none;}</style><div id=\"sk-container-id-3\" class=\"sk-top-container\"><div class=\"sk-text-repr-fallback\"><pre>GridSearchCV(cv=4, estimator=DecisionTreeClassifier(max_depth=4), n_jobs=-1,\n",
       "             param_grid={&#x27;criterion&#x27;: [&#x27;gini&#x27;, &#x27;entropy&#x27;],\n",
       "                         &#x27;max_depth&#x27;: [2, 3, 5, 10, 20],\n",
       "                         &#x27;min_samples_leaf&#x27;: [5, 10, 20, 50, 100]},\n",
       "             scoring=&#x27;accuracy&#x27;, verbose=1)</pre><b>In a Jupyter environment, please rerun this cell to show the HTML representation or trust the notebook. <br />On GitHub, the HTML representation is unable to render, please try loading this page with nbviewer.org.</b></div><div class=\"sk-container\" hidden><div class=\"sk-item sk-dashed-wrapped\"><div class=\"sk-label-container\"><div class=\"sk-label sk-toggleable\"><input class=\"sk-toggleable__control sk-hidden--visually\" id=\"sk-estimator-id-5\" type=\"checkbox\" ><label for=\"sk-estimator-id-5\" class=\"sk-toggleable__label sk-toggleable__label-arrow\">GridSearchCV</label><div class=\"sk-toggleable__content\"><pre>GridSearchCV(cv=4, estimator=DecisionTreeClassifier(max_depth=4), n_jobs=-1,\n",
       "             param_grid={&#x27;criterion&#x27;: [&#x27;gini&#x27;, &#x27;entropy&#x27;],\n",
       "                         &#x27;max_depth&#x27;: [2, 3, 5, 10, 20],\n",
       "                         &#x27;min_samples_leaf&#x27;: [5, 10, 20, 50, 100]},\n",
       "             scoring=&#x27;accuracy&#x27;, verbose=1)</pre></div></div></div><div class=\"sk-parallel\"><div class=\"sk-parallel-item\"><div class=\"sk-item\"><div class=\"sk-label-container\"><div class=\"sk-label sk-toggleable\"><input class=\"sk-toggleable__control sk-hidden--visually\" id=\"sk-estimator-id-6\" type=\"checkbox\" ><label for=\"sk-estimator-id-6\" class=\"sk-toggleable__label sk-toggleable__label-arrow\">estimator: DecisionTreeClassifier</label><div class=\"sk-toggleable__content\"><pre>DecisionTreeClassifier(max_depth=4)</pre></div></div></div><div class=\"sk-serial\"><div class=\"sk-item\"><div class=\"sk-estimator sk-toggleable\"><input class=\"sk-toggleable__control sk-hidden--visually\" id=\"sk-estimator-id-7\" type=\"checkbox\" ><label for=\"sk-estimator-id-7\" class=\"sk-toggleable__label sk-toggleable__label-arrow\">DecisionTreeClassifier</label><div class=\"sk-toggleable__content\"><pre>DecisionTreeClassifier(max_depth=4)</pre></div></div></div></div></div></div></div></div></div></div>"
      ],
      "text/plain": [
       "GridSearchCV(cv=4, estimator=DecisionTreeClassifier(max_depth=4), n_jobs=-1,\n",
       "             param_grid={'criterion': ['gini', 'entropy'],\n",
       "                         'max_depth': [2, 3, 5, 10, 20],\n",
       "                         'min_samples_leaf': [5, 10, 20, 50, 100]},\n",
       "             scoring='accuracy', verbose=1)"
      ]
     },
     "execution_count": 112,
     "metadata": {},
     "output_type": "execute_result"
    }
   ],
   "source": [
    "%%time\n",
    "grid_search.fit(X_train, y_train)"
   ]
  },
  {
   "cell_type": "code",
   "execution_count": 113,
   "id": "9cb7e8a2-f325-440c-8973-9601ceedc461",
   "metadata": {
    "tags": []
   },
   "outputs": [
    {
     "data": {
      "text/html": [
       "<div>\n",
       "<style scoped>\n",
       "    .dataframe tbody tr th:only-of-type {\n",
       "        vertical-align: middle;\n",
       "    }\n",
       "\n",
       "    .dataframe tbody tr th {\n",
       "        vertical-align: top;\n",
       "    }\n",
       "\n",
       "    .dataframe thead th {\n",
       "        text-align: right;\n",
       "    }\n",
       "</style>\n",
       "<table border=\"1\" class=\"dataframe\">\n",
       "  <thead>\n",
       "    <tr style=\"text-align: right;\">\n",
       "      <th></th>\n",
       "      <th>mean_fit_time</th>\n",
       "      <th>std_fit_time</th>\n",
       "      <th>mean_score_time</th>\n",
       "      <th>std_score_time</th>\n",
       "      <th>param_criterion</th>\n",
       "      <th>param_max_depth</th>\n",
       "      <th>param_min_samples_leaf</th>\n",
       "      <th>params</th>\n",
       "      <th>split0_test_score</th>\n",
       "      <th>split1_test_score</th>\n",
       "      <th>split2_test_score</th>\n",
       "      <th>split3_test_score</th>\n",
       "      <th>mean_test_score</th>\n",
       "      <th>std_test_score</th>\n",
       "      <th>rank_test_score</th>\n",
       "    </tr>\n",
       "  </thead>\n",
       "  <tbody>\n",
       "    <tr>\n",
       "      <th>0</th>\n",
       "      <td>0.535728</td>\n",
       "      <td>0.012347</td>\n",
       "      <td>0.011377</td>\n",
       "      <td>0.000415</td>\n",
       "      <td>gini</td>\n",
       "      <td>2</td>\n",
       "      <td>5</td>\n",
       "      <td>{'criterion': 'gini', 'max_depth': 2, 'min_sam...</td>\n",
       "      <td>0.6454</td>\n",
       "      <td>0.6468</td>\n",
       "      <td>0.64655</td>\n",
       "      <td>0.64485</td>\n",
       "      <td>0.6459</td>\n",
       "      <td>0.000804</td>\n",
       "      <td>46</td>\n",
       "    </tr>\n",
       "    <tr>\n",
       "      <th>1</th>\n",
       "      <td>0.529365</td>\n",
       "      <td>0.011007</td>\n",
       "      <td>0.011252</td>\n",
       "      <td>0.000434</td>\n",
       "      <td>gini</td>\n",
       "      <td>2</td>\n",
       "      <td>10</td>\n",
       "      <td>{'criterion': 'gini', 'max_depth': 2, 'min_sam...</td>\n",
       "      <td>0.6454</td>\n",
       "      <td>0.6468</td>\n",
       "      <td>0.64655</td>\n",
       "      <td>0.64485</td>\n",
       "      <td>0.6459</td>\n",
       "      <td>0.000804</td>\n",
       "      <td>46</td>\n",
       "    </tr>\n",
       "    <tr>\n",
       "      <th>2</th>\n",
       "      <td>0.536279</td>\n",
       "      <td>0.025597</td>\n",
       "      <td>0.012753</td>\n",
       "      <td>0.002486</td>\n",
       "      <td>gini</td>\n",
       "      <td>2</td>\n",
       "      <td>20</td>\n",
       "      <td>{'criterion': 'gini', 'max_depth': 2, 'min_sam...</td>\n",
       "      <td>0.6454</td>\n",
       "      <td>0.6468</td>\n",
       "      <td>0.64655</td>\n",
       "      <td>0.64485</td>\n",
       "      <td>0.6459</td>\n",
       "      <td>0.000804</td>\n",
       "      <td>46</td>\n",
       "    </tr>\n",
       "    <tr>\n",
       "      <th>3</th>\n",
       "      <td>0.504261</td>\n",
       "      <td>0.018764</td>\n",
       "      <td>0.034432</td>\n",
       "      <td>0.014019</td>\n",
       "      <td>gini</td>\n",
       "      <td>2</td>\n",
       "      <td>50</td>\n",
       "      <td>{'criterion': 'gini', 'max_depth': 2, 'min_sam...</td>\n",
       "      <td>0.6454</td>\n",
       "      <td>0.6468</td>\n",
       "      <td>0.64655</td>\n",
       "      <td>0.64485</td>\n",
       "      <td>0.6459</td>\n",
       "      <td>0.000804</td>\n",
       "      <td>46</td>\n",
       "    </tr>\n",
       "    <tr>\n",
       "      <th>4</th>\n",
       "      <td>0.552981</td>\n",
       "      <td>0.059204</td>\n",
       "      <td>0.011001</td>\n",
       "      <td>0.001414</td>\n",
       "      <td>gini</td>\n",
       "      <td>2</td>\n",
       "      <td>100</td>\n",
       "      <td>{'criterion': 'gini', 'max_depth': 2, 'min_sam...</td>\n",
       "      <td>0.6454</td>\n",
       "      <td>0.6468</td>\n",
       "      <td>0.64655</td>\n",
       "      <td>0.64485</td>\n",
       "      <td>0.6459</td>\n",
       "      <td>0.000804</td>\n",
       "      <td>46</td>\n",
       "    </tr>\n",
       "  </tbody>\n",
       "</table>\n",
       "</div>"
      ],
      "text/plain": [
       "   mean_fit_time  std_fit_time  mean_score_time  std_score_time  \\\n",
       "0       0.535728      0.012347         0.011377        0.000415   \n",
       "1       0.529365      0.011007         0.011252        0.000434   \n",
       "2       0.536279      0.025597         0.012753        0.002486   \n",
       "3       0.504261      0.018764         0.034432        0.014019   \n",
       "4       0.552981      0.059204         0.011001        0.001414   \n",
       "\n",
       "  param_criterion param_max_depth param_min_samples_leaf  \\\n",
       "0            gini               2                      5   \n",
       "1            gini               2                     10   \n",
       "2            gini               2                     20   \n",
       "3            gini               2                     50   \n",
       "4            gini               2                    100   \n",
       "\n",
       "                                              params  split0_test_score  \\\n",
       "0  {'criterion': 'gini', 'max_depth': 2, 'min_sam...             0.6454   \n",
       "1  {'criterion': 'gini', 'max_depth': 2, 'min_sam...             0.6454   \n",
       "2  {'criterion': 'gini', 'max_depth': 2, 'min_sam...             0.6454   \n",
       "3  {'criterion': 'gini', 'max_depth': 2, 'min_sam...             0.6454   \n",
       "4  {'criterion': 'gini', 'max_depth': 2, 'min_sam...             0.6454   \n",
       "\n",
       "   split1_test_score  split2_test_score  split3_test_score  mean_test_score  \\\n",
       "0             0.6468            0.64655            0.64485           0.6459   \n",
       "1             0.6468            0.64655            0.64485           0.6459   \n",
       "2             0.6468            0.64655            0.64485           0.6459   \n",
       "3             0.6468            0.64655            0.64485           0.6459   \n",
       "4             0.6468            0.64655            0.64485           0.6459   \n",
       "\n",
       "   std_test_score  rank_test_score  \n",
       "0        0.000804               46  \n",
       "1        0.000804               46  \n",
       "2        0.000804               46  \n",
       "3        0.000804               46  \n",
       "4        0.000804               46  "
      ]
     },
     "execution_count": 113,
     "metadata": {},
     "output_type": "execute_result"
    }
   ],
   "source": [
    "score_df = pd.DataFrame(grid_search.cv_results_)\n",
    "score_df.head()"
   ]
  },
  {
   "cell_type": "code",
   "execution_count": 114,
   "id": "41ea9a56-c3f1-4821-b4b6-65779d7ef4c2",
   "metadata": {
    "tags": []
   },
   "outputs": [
    {
     "data": {
      "text/html": [
       "<div>\n",
       "<style scoped>\n",
       "    .dataframe tbody tr th:only-of-type {\n",
       "        vertical-align: middle;\n",
       "    }\n",
       "\n",
       "    .dataframe tbody tr th {\n",
       "        vertical-align: top;\n",
       "    }\n",
       "\n",
       "    .dataframe thead th {\n",
       "        text-align: right;\n",
       "    }\n",
       "</style>\n",
       "<table border=\"1\" class=\"dataframe\">\n",
       "  <thead>\n",
       "    <tr style=\"text-align: right;\">\n",
       "      <th></th>\n",
       "      <th>mean_fit_time</th>\n",
       "      <th>std_fit_time</th>\n",
       "      <th>mean_score_time</th>\n",
       "      <th>std_score_time</th>\n",
       "      <th>param_criterion</th>\n",
       "      <th>param_max_depth</th>\n",
       "      <th>param_min_samples_leaf</th>\n",
       "      <th>params</th>\n",
       "      <th>split0_test_score</th>\n",
       "      <th>split1_test_score</th>\n",
       "      <th>split2_test_score</th>\n",
       "      <th>split3_test_score</th>\n",
       "      <th>mean_test_score</th>\n",
       "      <th>std_test_score</th>\n",
       "      <th>rank_test_score</th>\n",
       "    </tr>\n",
       "  </thead>\n",
       "  <tbody>\n",
       "    <tr>\n",
       "      <th>45</th>\n",
       "      <td>3.660685</td>\n",
       "      <td>0.086534</td>\n",
       "      <td>0.013379</td>\n",
       "      <td>0.001986</td>\n",
       "      <td>entropy</td>\n",
       "      <td>20</td>\n",
       "      <td>5</td>\n",
       "      <td>{'criterion': 'entropy', 'max_depth': 20, 'min...</td>\n",
       "      <td>0.73930</td>\n",
       "      <td>0.73650</td>\n",
       "      <td>0.73880</td>\n",
       "      <td>0.72660</td>\n",
       "      <td>0.735300</td>\n",
       "      <td>0.005133</td>\n",
       "      <td>1</td>\n",
       "    </tr>\n",
       "    <tr>\n",
       "      <th>46</th>\n",
       "      <td>3.510907</td>\n",
       "      <td>0.144757</td>\n",
       "      <td>0.012508</td>\n",
       "      <td>0.002429</td>\n",
       "      <td>entropy</td>\n",
       "      <td>20</td>\n",
       "      <td>10</td>\n",
       "      <td>{'criterion': 'entropy', 'max_depth': 20, 'min...</td>\n",
       "      <td>0.73505</td>\n",
       "      <td>0.73180</td>\n",
       "      <td>0.73815</td>\n",
       "      <td>0.72785</td>\n",
       "      <td>0.733213</td>\n",
       "      <td>0.003824</td>\n",
       "      <td>2</td>\n",
       "    </tr>\n",
       "    <tr>\n",
       "      <th>21</th>\n",
       "      <td>3.055845</td>\n",
       "      <td>0.163840</td>\n",
       "      <td>0.011000</td>\n",
       "      <td>0.000707</td>\n",
       "      <td>gini</td>\n",
       "      <td>20</td>\n",
       "      <td>10</td>\n",
       "      <td>{'criterion': 'gini', 'max_depth': 20, 'min_sa...</td>\n",
       "      <td>0.73355</td>\n",
       "      <td>0.72675</td>\n",
       "      <td>0.72475</td>\n",
       "      <td>0.73725</td>\n",
       "      <td>0.730575</td>\n",
       "      <td>0.005049</td>\n",
       "      <td>3</td>\n",
       "    </tr>\n",
       "    <tr>\n",
       "      <th>20</th>\n",
       "      <td>3.362199</td>\n",
       "      <td>0.246592</td>\n",
       "      <td>0.011749</td>\n",
       "      <td>0.001298</td>\n",
       "      <td>gini</td>\n",
       "      <td>20</td>\n",
       "      <td>5</td>\n",
       "      <td>{'criterion': 'gini', 'max_depth': 20, 'min_sa...</td>\n",
       "      <td>0.73405</td>\n",
       "      <td>0.72860</td>\n",
       "      <td>0.72010</td>\n",
       "      <td>0.73775</td>\n",
       "      <td>0.730125</td>\n",
       "      <td>0.006640</td>\n",
       "      <td>4</td>\n",
       "    </tr>\n",
       "    <tr>\n",
       "      <th>47</th>\n",
       "      <td>3.273455</td>\n",
       "      <td>0.163273</td>\n",
       "      <td>0.010841</td>\n",
       "      <td>0.001122</td>\n",
       "      <td>entropy</td>\n",
       "      <td>20</td>\n",
       "      <td>20</td>\n",
       "      <td>{'criterion': 'entropy', 'max_depth': 20, 'min...</td>\n",
       "      <td>0.73080</td>\n",
       "      <td>0.73470</td>\n",
       "      <td>0.72610</td>\n",
       "      <td>0.72855</td>\n",
       "      <td>0.730038</td>\n",
       "      <td>0.003164</td>\n",
       "      <td>5</td>\n",
       "    </tr>\n",
       "  </tbody>\n",
       "</table>\n",
       "</div>"
      ],
      "text/plain": [
       "    mean_fit_time  std_fit_time  mean_score_time  std_score_time  \\\n",
       "45       3.660685      0.086534         0.013379        0.001986   \n",
       "46       3.510907      0.144757         0.012508        0.002429   \n",
       "21       3.055845      0.163840         0.011000        0.000707   \n",
       "20       3.362199      0.246592         0.011749        0.001298   \n",
       "47       3.273455      0.163273         0.010841        0.001122   \n",
       "\n",
       "   param_criterion param_max_depth param_min_samples_leaf  \\\n",
       "45         entropy              20                      5   \n",
       "46         entropy              20                     10   \n",
       "21            gini              20                     10   \n",
       "20            gini              20                      5   \n",
       "47         entropy              20                     20   \n",
       "\n",
       "                                               params  split0_test_score  \\\n",
       "45  {'criterion': 'entropy', 'max_depth': 20, 'min...            0.73930   \n",
       "46  {'criterion': 'entropy', 'max_depth': 20, 'min...            0.73505   \n",
       "21  {'criterion': 'gini', 'max_depth': 20, 'min_sa...            0.73355   \n",
       "20  {'criterion': 'gini', 'max_depth': 20, 'min_sa...            0.73405   \n",
       "47  {'criterion': 'entropy', 'max_depth': 20, 'min...            0.73080   \n",
       "\n",
       "    split1_test_score  split2_test_score  split3_test_score  mean_test_score  \\\n",
       "45            0.73650            0.73880            0.72660         0.735300   \n",
       "46            0.73180            0.73815            0.72785         0.733213   \n",
       "21            0.72675            0.72475            0.73725         0.730575   \n",
       "20            0.72860            0.72010            0.73775         0.730125   \n",
       "47            0.73470            0.72610            0.72855         0.730038   \n",
       "\n",
       "    std_test_score  rank_test_score  \n",
       "45        0.005133                1  \n",
       "46        0.003824                2  \n",
       "21        0.005049                3  \n",
       "20        0.006640                4  \n",
       "47        0.003164                5  "
      ]
     },
     "execution_count": 114,
     "metadata": {},
     "output_type": "execute_result"
    }
   ],
   "source": [
    "score_df.nlargest(5,\"mean_test_score\")"
   ]
  },
  {
   "cell_type": "code",
   "execution_count": 115,
   "id": "571aa068-49b2-4c3a-a39c-402214eb9ecc",
   "metadata": {
    "tags": []
   },
   "outputs": [
    {
     "data": {
      "text/html": [
       "<style>#sk-container-id-4 {color: black;}#sk-container-id-4 pre{padding: 0;}#sk-container-id-4 div.sk-toggleable {background-color: white;}#sk-container-id-4 label.sk-toggleable__label {cursor: pointer;display: block;width: 100%;margin-bottom: 0;padding: 0.3em;box-sizing: border-box;text-align: center;}#sk-container-id-4 label.sk-toggleable__label-arrow:before {content: \"▸\";float: left;margin-right: 0.25em;color: #696969;}#sk-container-id-4 label.sk-toggleable__label-arrow:hover:before {color: black;}#sk-container-id-4 div.sk-estimator:hover label.sk-toggleable__label-arrow:before {color: black;}#sk-container-id-4 div.sk-toggleable__content {max-height: 0;max-width: 0;overflow: hidden;text-align: left;background-color: #f0f8ff;}#sk-container-id-4 div.sk-toggleable__content pre {margin: 0.2em;color: black;border-radius: 0.25em;background-color: #f0f8ff;}#sk-container-id-4 input.sk-toggleable__control:checked~div.sk-toggleable__content {max-height: 200px;max-width: 100%;overflow: auto;}#sk-container-id-4 input.sk-toggleable__control:checked~label.sk-toggleable__label-arrow:before {content: \"▾\";}#sk-container-id-4 div.sk-estimator input.sk-toggleable__control:checked~label.sk-toggleable__label {background-color: #d4ebff;}#sk-container-id-4 div.sk-label input.sk-toggleable__control:checked~label.sk-toggleable__label {background-color: #d4ebff;}#sk-container-id-4 input.sk-hidden--visually {border: 0;clip: rect(1px 1px 1px 1px);clip: rect(1px, 1px, 1px, 1px);height: 1px;margin: -1px;overflow: hidden;padding: 0;position: absolute;width: 1px;}#sk-container-id-4 div.sk-estimator {font-family: monospace;background-color: #f0f8ff;border: 1px dotted black;border-radius: 0.25em;box-sizing: border-box;margin-bottom: 0.5em;}#sk-container-id-4 div.sk-estimator:hover {background-color: #d4ebff;}#sk-container-id-4 div.sk-parallel-item::after {content: \"\";width: 100%;border-bottom: 1px solid gray;flex-grow: 1;}#sk-container-id-4 div.sk-label:hover label.sk-toggleable__label {background-color: #d4ebff;}#sk-container-id-4 div.sk-serial::before {content: \"\";position: absolute;border-left: 1px solid gray;box-sizing: border-box;top: 0;bottom: 0;left: 50%;z-index: 0;}#sk-container-id-4 div.sk-serial {display: flex;flex-direction: column;align-items: center;background-color: white;padding-right: 0.2em;padding-left: 0.2em;position: relative;}#sk-container-id-4 div.sk-item {position: relative;z-index: 1;}#sk-container-id-4 div.sk-parallel {display: flex;align-items: stretch;justify-content: center;background-color: white;position: relative;}#sk-container-id-4 div.sk-item::before, #sk-container-id-4 div.sk-parallel-item::before {content: \"\";position: absolute;border-left: 1px solid gray;box-sizing: border-box;top: 0;bottom: 0;left: 50%;z-index: -1;}#sk-container-id-4 div.sk-parallel-item {display: flex;flex-direction: column;z-index: 1;position: relative;background-color: white;}#sk-container-id-4 div.sk-parallel-item:first-child::after {align-self: flex-end;width: 50%;}#sk-container-id-4 div.sk-parallel-item:last-child::after {align-self: flex-start;width: 50%;}#sk-container-id-4 div.sk-parallel-item:only-child::after {width: 0;}#sk-container-id-4 div.sk-dashed-wrapped {border: 1px dashed gray;margin: 0 0.4em 0.5em 0.4em;box-sizing: border-box;padding-bottom: 0.4em;background-color: white;}#sk-container-id-4 div.sk-label label {font-family: monospace;font-weight: bold;display: inline-block;line-height: 1.2em;}#sk-container-id-4 div.sk-label-container {text-align: center;}#sk-container-id-4 div.sk-container {/* jupyter's `normalize.less` sets `[hidden] { display: none; }` but bootstrap.min.css set `[hidden] { display: none !important; }` so we also need the `!important` here to be able to override the default hidden behavior on the sphinx rendered scikit-learn.org. See: https://github.com/scikit-learn/scikit-learn/issues/21755 */display: inline-block !important;position: relative;}#sk-container-id-4 div.sk-text-repr-fallback {display: none;}</style><div id=\"sk-container-id-4\" class=\"sk-top-container\"><div class=\"sk-text-repr-fallback\"><pre>DecisionTreeClassifier(criterion=&#x27;entropy&#x27;, max_depth=20, min_samples_leaf=5)</pre><b>In a Jupyter environment, please rerun this cell to show the HTML representation or trust the notebook. <br />On GitHub, the HTML representation is unable to render, please try loading this page with nbviewer.org.</b></div><div class=\"sk-container\" hidden><div class=\"sk-item\"><div class=\"sk-estimator sk-toggleable\"><input class=\"sk-toggleable__control sk-hidden--visually\" id=\"sk-estimator-id-8\" type=\"checkbox\" checked><label for=\"sk-estimator-id-8\" class=\"sk-toggleable__label sk-toggleable__label-arrow\">DecisionTreeClassifier</label><div class=\"sk-toggleable__content\"><pre>DecisionTreeClassifier(criterion=&#x27;entropy&#x27;, max_depth=20, min_samples_leaf=5)</pre></div></div></div></div></div>"
      ],
      "text/plain": [
       "DecisionTreeClassifier(criterion='entropy', max_depth=20, min_samples_leaf=5)"
      ]
     },
     "execution_count": 115,
     "metadata": {},
     "output_type": "execute_result"
    }
   ],
   "source": [
    "grid_search.best_estimator_"
   ]
  },
  {
   "cell_type": "code",
   "execution_count": 116,
   "id": "ce908396-6f7a-49fd-b004-38a22da86271",
   "metadata": {
    "tags": []
   },
   "outputs": [],
   "source": [
    "dt_best = grid_search.best_estimator_"
   ]
  },
  {
   "cell_type": "code",
   "execution_count": 117,
   "id": "cfda2f45-0b7d-47a7-8055-ab851357766d",
   "metadata": {
    "tags": []
   },
   "outputs": [],
   "source": [
    "# evaluate_model(dt_best)"
   ]
  },
  {
   "cell_type": "code",
   "execution_count": 118,
   "id": "4b4c147e-2408-404c-b89f-962485d0c567",
   "metadata": {
    "tags": []
   },
   "outputs": [
    {
     "name": "stdout",
     "output_type": "stream",
     "text": [
      "              precision    recall  f1-score   support\n",
      "\n",
      "         0.0       0.66      0.70      0.68      3527\n",
      "         1.0       0.74      0.74      0.74      5874\n",
      "         2.0       0.77      0.76      0.77     10599\n",
      "\n",
      "    accuracy                           0.74     20000\n",
      "   macro avg       0.72      0.73      0.73     20000\n",
      "weighted avg       0.74      0.74      0.74     20000\n",
      "\n"
     ]
    }
   ],
   "source": [
    "print(classification_report(y_test, dt_best.predict(X_test)))"
   ]
  },
  {
   "cell_type": "code",
   "execution_count": 119,
   "id": "cc12e9dd-c004-48a5-afec-7ec08114d088",
   "metadata": {
    "tags": []
   },
   "outputs": [
    {
     "data": {
      "image/png": "[encoded data removed]",
      "text/plain": [
       "<Figure size 800x600 with 1 Axes>"
      ]
     },
     "metadata": {},
     "output_type": "display_data"
    }
   ],
   "source": [
    "import numpy as np \n",
    "from sklearn.decomposition import PCA  \n",
    "import matplotlib.pyplot as plt\n",
    "\n",
    "pca = PCA()\n",
    "pca.fit(X)\n",
    "\n",
    "# Plot scree plot\n",
    "plt.figure(figsize=(8, 6))\n",
    "plt.plot(np.arange(1, pca.n_components_ + 1), pca.explained_variance_ratio_, marker='o', linestyle='-')\n",
    "plt.title('Scree Plot')\n",
    "plt.xlabel('Number of Components')\n",
    "plt.ylabel('Explained Variance Ratio')\n",
    "plt.xticks(np.arange(1, pca.n_components_ + 1))\n",
    "plt.grid(True)\n",
    "plt.show()"
   ]
  },
  {
   "cell_type": "code",
   "execution_count": 194,
   "id": "b5533f9a-aeca-4b4a-91b4-7e02d7b59d44",
   "metadata": {
    "tags": []
   },
   "outputs": [
    {
     "data": {
      "text/plain": [
       "(100000, 20)"
      ]
     },
     "execution_count": 194,
     "metadata": {},
     "output_type": "execute_result"
    }
   ],
   "source": [
    "pca = PCA(n_components = 0.95)\n",
    "X_pca = pca.fit_transform(X)\n",
    "X_pca.shape\t\t #size of the projected dataset"
   ]
  },
  {
   "cell_type": "code",
   "execution_count": 198,
   "id": "7b6023d9-038d-49c5-89dd-faf92d9d2229",
   "metadata": {
    "tags": []
   },
   "outputs": [],
   "source": [
    "X_train, X_test, y_train, y_test = train_test_split(X_pca,y, test_size=0.2, random_state = 42)"
   ]
  },
  {
   "cell_type": "code",
   "execution_count": 199,
   "id": "96e5ee30-9c3a-4b05-a39b-2c1c826957f2",
   "metadata": {
    "tags": []
   },
   "outputs": [],
   "source": [
    "clf = DecisionTreeClassifier(max_depth = 4)\n",
    "clf.fit(X_train,y_train)\n",
    "y_predict = clf.predict(X_test)"
   ]
  },
  {
   "cell_type": "code",
   "execution_count": 200,
   "id": "bf9b1f8e-64d6-4972-894c-2c6e205423b8",
   "metadata": {
    "tags": []
   },
   "outputs": [
    {
     "data": {
      "text/plain": [
       "0.64745"
      ]
     },
     "execution_count": 200,
     "metadata": {},
     "output_type": "execute_result"
    }
   ],
   "source": [
    "clf.score(X_test, y_test) #testing accuracy"
   ]
  },
  {
   "cell_type": "code",
   "execution_count": 124,
   "id": "8d1a0128-7928-4851-89cc-7391654e581a",
   "metadata": {
    "tags": []
   },
   "outputs": [
    {
     "data": {
      "text/plain": [
       "0.6506875"
      ]
     },
     "execution_count": 124,
     "metadata": {},
     "output_type": "execute_result"
    }
   ],
   "source": [
    "clf.score(X_train, y_train)"
   ]
  },
  {
   "cell_type": "code",
   "execution_count": 201,
   "id": "0ba63d65-605b-4b04-9cc7-d858772d9b83",
   "metadata": {
    "scrolled": true,
    "tags": []
   },
   "outputs": [
    {
     "name": "stdout",
     "output_type": "stream",
     "text": [
      "Principal Component 1:\n",
      "[-0.08361567 -0.00154177 -0.09953754 -0.09583295  0.17277313  0.12048244\n",
      "  0.22525811  0.30280761  0.18423041  0.18340515  0.12151957  0.19023505\n",
      " -0.24957329  0.20903058 -0.02549015 -0.21156172  0.18572026  0.02013819\n",
      " -0.03296977  0.07589635 -0.10114171 -0.19978161  0.21473796  0.22800699\n",
      "  0.2100276   0.22253629  0.22173264  0.21228394  0.22028475  0.21784007\n",
      "  0.20823186]\n",
      "Principal Component 2:\n",
      "[-7.22987518e-03 -1.72888831e-02  2.32040140e-02  2.23245302e-02\n",
      " -9.35893262e-03 -4.06765743e-04 -7.27357814e-03  1.20547832e-02\n",
      " -4.61584300e-03 -1.30072704e-02 -5.92663057e-03 -2.41708925e-03\n",
      " -1.26349120e-02 -2.48519451e-03  3.71604168e-03 -5.53133414e-05\n",
      " -1.62191977e-02  7.45980066e-03  7.18167218e-03 -3.66927522e-02\n",
      "  1.19122670e-02 -1.87964743e-02 -3.11221249e-01 -3.29474220e-01\n",
      " -1.33094902e-01 -2.10892202e-01  4.34107576e-01  6.55521589e-01\n",
      " -1.80688572e-01 -1.07738756e-01  2.56295623e-01]\n",
      "Principal Component 3:\n",
      "[-3.40028626e-03  2.77115606e-03  4.08113305e-03  3.28972523e-03\n",
      " -4.79119512e-03 -2.64564121e-04 -1.64590301e-03  5.57580155e-03\n",
      "  9.10396953e-04 -1.32181947e-02 -5.90059292e-03  3.44526873e-03\n",
      "  1.14532978e-02 -5.69019957e-03  8.72577686e-04 -4.49772741e-03\n",
      "  5.42173863e-03  2.63681375e-03  1.31445441e-03  2.64655940e-04\n",
      "  2.95244285e-04 -1.46298772e-02  1.08647089e-01 -3.99259533e-01\n",
      "  3.84093541e-01 -2.64651641e-01 -1.82646729e-01  1.73964383e-01\n",
      "  6.65695106e-01 -2.66849449e-01 -1.80207287e-01]\n",
      "Principal Component 4:\n",
      "[ 6.99802557e-03  1.56831700e-02  3.69378898e-03  3.54837448e-03\n",
      " -1.60706584e-03  5.50933177e-03  8.16932400e-03 -5.12401233e-04\n",
      "  4.21403777e-03  8.29605565e-03  3.54189862e-03  7.92579587e-03\n",
      " -2.05804678e-02  1.03755832e-02  3.07100784e-03 -9.12632927e-03\n",
      " -2.46938238e-03 -1.24734633e-04  5.11318675e-04 -1.43067698e-02\n",
      "  5.02593300e-03  5.08663242e-03  1.98099143e-01  1.67484692e-02\n",
      " -5.23334770e-01 -2.64294411e-01 -2.35050489e-01 -1.25799747e-01\n",
      "  2.97391809e-01 -6.97738991e-02  6.71484649e-01]\n",
      "Principal Component 5:\n",
      "[-0.01170515 -0.00371851 -0.01336091 -0.01284083  0.01288001  0.00506082\n",
      "  0.0067786  -0.00784733  0.01184689  0.00582505  0.0029996   0.00462901\n",
      "  0.00462365  0.00812195 -0.00353982 -0.0092886   0.00920242 -0.00613927\n",
      " -0.00254281  0.03217744 -0.00583218  0.01177434  0.32194311 -0.38794877\n",
      "  0.09122806 -0.46760726  0.23055882 -0.25343036 -0.15731973  0.61093189\n",
      " -0.03125173]\n",
      "Principal Component 6:\n",
      "[-2.96350219e-04 -8.33698406e-03  8.90706604e-03  8.60098715e-03\n",
      " -1.13498343e-02 -6.58039564e-03 -8.92403234e-03  4.33271934e-03\n",
      "  4.22492880e-03 -1.32789967e-02 -1.43445502e-03 -2.50639838e-03\n",
      " -5.53714587e-03 -3.45936819e-04 -3.41600590e-04  5.78102082e-03\n",
      " -7.91357029e-03  2.16557480e-03  3.19563845e-03 -1.01227598e-02\n",
      "  3.54618150e-03 -1.30207649e-02 -5.17411674e-01 -4.31680445e-01\n",
      "  1.61632882e-01  4.30465054e-01 -2.12364036e-01 -1.89068171e-01\n",
      "  1.26498564e-01  3.57006861e-01  3.30285290e-01]\n",
      "Principal Component 7:\n",
      "[-9.99067763e-03  9.66911297e-03 -2.31465624e-02 -2.23428768e-02\n",
      " -3.89737163e-03  1.03123689e-04  5.58908069e-03 -2.16919805e-03\n",
      "  3.36961212e-03  2.23197415e-03  1.14745881e-02  6.55052290e-03\n",
      "  2.41182468e-02  4.97326916e-04 -4.52695341e-03 -1.18562206e-02\n",
      "  1.14229987e-02 -4.96741697e-03 -6.15139265e-03  2.67155742e-02\n",
      " -1.29942104e-02 -5.02219340e-03  9.42372905e-02  9.27751683e-02\n",
      "  5.62487606e-01 -2.20805653e-01 -4.51204481e-01  1.34605422e-01\n",
      " -4.76055464e-01 -1.23765175e-01  3.87814142e-01]\n",
      "Principal Component 8:\n",
      "[-9.59367965e-03 -3.39415091e-03 -1.11776003e-03 -7.74663598e-04\n",
      " -4.96692893e-03 -5.19820855e-03 -1.16225526e-02  6.23227710e-03\n",
      " -1.34776189e-02 -1.21594210e-02 -3.71899683e-03 -9.01833349e-03\n",
      "  2.64455235e-02 -1.40412415e-02  1.29522205e-04  7.84645459e-03\n",
      "  5.17200343e-03  2.14192014e-04 -1.91519525e-03  3.39100121e-03\n",
      " -2.58208183e-03 -1.66150196e-02 -9.22857483e-02  1.82189619e-01\n",
      " -2.37374971e-01 -1.18372863e-01 -5.17383151e-01  5.15346222e-01\n",
      "  7.34530869e-02  5.24048054e-01 -2.69451333e-01]\n",
      "Principal Component 9:\n",
      "[-0.00144611 -0.00498863  0.02736287  0.02649558 -0.00865321 -0.00611181\n",
      " -0.00213041  0.00923283 -0.00484527 -0.00640222  0.00145581 -0.00338205\n",
      "  0.00599048 -0.00675509  0.00499198  0.00652579 -0.00848891  0.0074612\n",
      "  0.00818655 -0.05467186  0.01641903 -0.01623867  0.58940359 -0.46820493\n",
      " -0.1937177   0.49831312 -0.17850201  0.21861036 -0.22552434 -0.0947214\n",
      " -0.04933944]\n",
      "Principal Component 10:\n",
      "[ 0.05007046 -0.01096335  0.30024837  0.29065062 -0.14235411 -0.06406738\n",
      " -0.14235568  0.11894353 -0.09935684 -0.14827034 -0.08302266 -0.09833463\n",
      " -0.13653244 -0.05169115  0.05832597  0.07872815 -0.26680904  0.07693456\n",
      "  0.09103309 -0.61005373  0.18793304 -0.22635905  0.13002544  0.17832848\n",
      "  0.16864077  0.05441845  0.11217649  0.05140409  0.10689837  0.14489982\n",
      "  0.11295434]\n",
      "Principal Component 11:\n",
      "[ 0.00640889  0.00319685  0.05783921  0.05573131  0.07082488  0.11062129\n",
      "  0.11263206 -0.06792438  0.18128187  0.08013989 -0.02238556  0.08660341\n",
      " -0.75035155  0.2151544   0.03127315 -0.08070601 -0.13444716 -0.01112307\n",
      "  0.01727556 -0.16861592  0.07803432  0.36705762 -0.11041802 -0.11147606\n",
      " -0.07986984 -0.10472145 -0.14479323 -0.07187319 -0.11343911 -0.09246417\n",
      " -0.13260241]\n",
      "Principal Component 12:\n",
      "[ 0.11226752 -0.00545025 -0.08854771 -0.08611002 -0.1786982  -0.06719366\n",
      " -0.17847444  0.056925   -0.10809645 -0.18468813 -0.16565016 -0.13200201\n",
      " -0.34245979 -0.0370751  -0.04274834  0.12080356 -0.5362045  -0.00994393\n",
      " -0.02180358  0.56094517 -0.14395729 -0.14227556  0.07918865  0.05176756\n",
      "  0.04745864  0.06307291  0.05747854  0.06013655  0.05438132  0.04817926\n",
      "  0.06116159]\n",
      "Principal Component 13:\n",
      "[-1.24291960e-02  9.98571443e-01  1.05647606e-02  9.86575041e-03\n",
      "  1.24688110e-02  3.96491779e-03  7.65854409e-03  1.52491626e-03\n",
      "  9.49661722e-03 -6.59824555e-03 -2.18300379e-03  2.25346640e-03\n",
      "  1.16528755e-02  6.70912021e-03  1.30482040e-03 -7.08787905e-03\n",
      " -2.97885043e-02  3.03499607e-03  3.38401170e-03 -5.71358084e-04\n",
      "  1.96370110e-03 -1.61902319e-02 -1.06366330e-02 -1.19508199e-02\n",
      " -8.95236549e-04  6.44100172e-03  1.18096577e-02  1.04634409e-02\n",
      " -5.93172156e-03  7.36760217e-03 -8.49542108e-03]\n",
      "Principal Component 14:\n",
      "[-1.59774888e-02  7.59197791e-03  4.87058199e-01  4.69642261e-01\n",
      " -9.20658129e-02 -3.45332816e-02 -7.32992883e-02  1.16313560e-02\n",
      " -4.29744714e-02 -9.21123567e-02  1.35234112e-03 -1.72138779e-02\n",
      " -1.52559475e-01 -4.51254740e-03  6.08376870e-02  1.56724483e-02\n",
      "  4.80775858e-01  8.73170910e-02  1.77240103e-01  4.52894596e-01\n",
      "  1.11644743e-01  1.53966136e-02  1.18779701e-02  1.76671314e-02\n",
      "  1.19841459e-02  4.81158995e-03  3.77695471e-03  3.44716471e-03\n",
      " -2.69490380e-04  5.83788281e-03  1.30536571e-02]\n",
      "Principal Component 15:\n",
      "[-0.5126066  -0.0345514   0.25608183  0.24717267  0.1720821   0.06513304\n",
      "  0.17337071  0.00618791  0.1022948   0.15424552  0.13931123  0.11828288\n",
      "  0.29623558  0.05531941  0.03916993 -0.12176847 -0.55143592  0.04588585\n",
      "  0.09507676  0.17939049  0.07357015  0.13234231 -0.00380052  0.01061061\n",
      "  0.00159498  0.0050461  -0.00418394 -0.00152382  0.0085031  -0.00143879\n",
      "  0.00151664]\n",
      "Principal Component 16:\n",
      "[ 0.83211823 -0.00386864  0.14847697  0.14276713  0.19459102  0.0764565\n",
      "  0.15528881  0.02560052  0.14264137  0.20131035  0.0836488   0.01880722\n",
      "  0.21278354  0.03513298  0.0220301  -0.02440741 -0.20778067  0.02889148\n",
      "  0.05428796  0.09031555  0.04817537  0.13708526  0.01564036  0.01665817\n",
      "  0.02941127  0.01556439  0.01465752  0.03435624  0.01838504  0.02949671\n",
      "  0.01955017]\n",
      "Principal Component 17:\n",
      "[ 0.01773007 -0.01824063  0.05955227  0.05791196  0.16210976  0.09129212\n",
      "  0.14441477 -0.14428576  0.19252789  0.18812587 -0.11529194  0.05257003\n",
      " -0.09775597 -0.01444312  0.01329816  0.0615124  -0.0336265   0.00124104\n",
      "  0.02054778  0.0303176   0.04228407 -0.81850197 -0.12434474 -0.12190914\n",
      " -0.12301715 -0.12111399 -0.12834723 -0.123084   -0.12819232 -0.12158262\n",
      " -0.12943949]\n",
      "Principal Component 18:\n",
      "[-0.11171422  0.00349331  0.00940273  0.00969154  0.2368168   0.05498365\n",
      "  0.0304353   0.02302854  0.19237048  0.2916189  -0.73015627 -0.11488381\n",
      "  0.02305251 -0.260337   -0.00825492  0.33473445  0.076052    0.00715805\n",
      "  0.00742148  0.00160884 -0.00172955  0.20716587  0.0571017   0.05577317\n",
      "  0.06042315  0.05364417  0.05154919  0.05593543  0.05401671  0.05249902\n",
      "  0.06923439]\n",
      "Principal Component 19:\n",
      "[ 7.35189594e-02 -9.52296809e-03  6.08163609e-03  5.64450532e-03\n",
      " -2.26149806e-01  1.19786896e-01  4.43484214e-01 -1.54070977e-02\n",
      " -5.97021533e-03 -4.98186925e-01 -4.65575349e-01  3.84153080e-01\n",
      "  1.19367467e-01 -9.21628037e-03  4.30457149e-02 -3.19265936e-01\n",
      " -1.62134925e-02 -2.69098936e-03  3.14652547e-03  3.25723929e-04\n",
      "  1.02841275e-02  2.78972365e-03 -9.33018892e-03 -1.36953734e-03\n",
      " -1.45703467e-02 -2.78169723e-03 -6.38782882e-03 -1.38916894e-02\n",
      " -1.54484114e-02 -4.50056577e-03 -1.24414229e-02]\n",
      "Principal Component 20:\n",
      "[ 3.47466802e-03 -9.25306469e-04  8.73868554e-02  8.38287481e-02\n",
      " -8.40483662e-03  1.32488604e-02  9.34576023e-03 -6.72351375e-05\n",
      "  1.50806718e-02 -2.12029889e-02 -8.45281705e-03  3.76216928e-02\n",
      "  1.43801612e-03 -1.85751252e-03 -9.85963115e-01 -1.37519079e-02\n",
      " -1.39035828e-03  3.49919844e-02  3.36908375e-02 -4.78540835e-02\n",
      " -7.03897870e-02  7.68624903e-03 -8.77655831e-03 -7.80983309e-03\n",
      " -1.08237402e-02 -1.06036707e-02 -1.07452948e-02 -9.27902568e-03\n",
      " -8.85147498e-03 -9.75143875e-03 -1.00111589e-02]\n"
     ]
    }
   ],
   "source": []
  }
 ],
 "metadata": {
  "kernelspec": {
   "display_name": "Python 3 (ipykernel)",
   "language": "python",
   "name": "python3"
  },
  "language_info": {
   "codemirror_mode": {
    "name": "ipython",
    "version": 3
   },
   "file_extension": ".py",
   "mimetype": "text/x-python",
   "name": "python",
   "nbconvert_exporter": "python",
   "pygments_lexer": "ipython3",
   "version": "3.10.13"
  }
 },
 "nbformat": 4,
 "nbformat_minor": 5
}
